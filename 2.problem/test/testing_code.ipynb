{
 "cells": [
  {
   "cell_type": "code",
   "execution_count": 1,
   "metadata": {},
   "outputs": [
    {
     "name": "stdout",
     "output_type": "stream",
     "text": [
      "===cam===\n"
     ]
    }
   ],
   "source": [
    "import os\n",
    "import torch\n",
    "from torch.nn import functional as F\n",
    "import cv2\n",
    "import numpy as np\n",
    "import torchvision.transforms as transforms\n",
    "import utils\n",
    "import model\n",
    "from attribution_methods import *\n",
    "import matplotlib.pyplot as plt\n",
    "import numpy as np\n",
    "import torchvision\n",
    "import cv2\n",
    "from evaluaion_methods import *\n",
    "print(\"===cam===\")"
   ]
  },
  {
   "cell_type": "code",
   "execution_count": null,
   "metadata": {},
   "outputs": [],
   "source": [
    "if not os.path.exists('./result'):\n",
    "    os.mkdir('result/')\n",
    "\n",
    "classes = ('airplance', 'bird', 'car', 'cat', 'deer', 'dog', 'horse', 'monkey',\n",
    "        'ship', 'truck')\n",
    "train_loader = utils.load_data_cifar10(batch_size=1,test=False)\n",
    "test_loader = utils.load_data_cifar10(batch_size=64, test=True)\n",
    "is_cuda = torch.cuda.is_available()\n",
    "device = torch.device(\"cuda\" if is_cuda else \"cpu\")\n",
    "net = model.load_net().to(device)\n",
    "finalconv_name = 'conv'\n",
    "save_dir = \"./datab\"\n",
    "ratio = 0.1\n",
    "\n",
    "#save mask image\n",
    "print(\"trainloader size->{}\".format(train_loader.dataset.data.shape))\n",
    "#cam = CAMS(net,device)\n",
    "#cam.save_saliency_map(train_loader,save_dir)\n",
    "\n",
    "#adjust image\n",
    "print(\"saliency map open......\")\n",
    "hf = h5py.File(f'./datab/fileresult.hdf5','r')\n",
    "#cifar10 = h5py.File(f'./datab/cifar10_GB-GC_steps50_ckp5_sample0.1.hdf5','r')\n",
    "\n",
    "\n",
    "sal_maps = np.array(hf['saliencys'])\n",
    "#sal_cifar10 = np.array(cifar10['saliencys'])\n",
    "\n",
    "print('sal_maps->{}'.format(sal_maps.shape))\n",
    "\n",
    "img = sal_maps[0]\n",
    "import matplotlib.pyplot as plt\n",
    "import matplotlib.image as mpimg\n",
    "height, width = 32,32\n",
    "\n",
    "print(\"shape->{}\".format(img.shape))\n",
    "heatmap = cv2.applyColorMap(cv2.resize(img[0], (width, height)), cv2.COLORMAP_JET)\n",
    "\n",
    "\n",
    "imgplot = plt.imshow(heatmap)\n",
    "\n",
    "#print(sal_maps[0].shape)\n",
    "#plt.show()\n",
    "#print(\"cifar10->{}\".format(cifar10.shape))\n",
    "#print('cifar10->{}'.format(sal_maps2.shape))\n",
    "\n",
    "#data_lst = adjust_image(train_loader,sal_maps,ratio,\"ROAR\")"
   ]
  },
  {
   "cell_type": "code",
   "execution_count": 4,
   "metadata": {},
   "outputs": [],
   "source": [
    "class HDF5Store(object):\n",
    "\n",
    "    def __init__(self, datapath, dataset, shape, dtype=np.float32, compression=\"gzip\", chunk_len=1):\n",
    "        self.datapath = datapath\n",
    "        self.dataset = dataset\n",
    "        self.shape = shape\n",
    "        self.i = 0\n",
    "\n",
    "        with h5py.File(self.datapath, mode='w') as h5f:\n",
    "            self.dset = h5f.create_dataset(\n",
    "                dataset,\n",
    "                shape=(0,) + shape,\n",
    "                maxshape=(None,) + shape,\n",
    "                dtype=dtype,\n",
    "                compression=compression,\n",
    "                chunks=(chunk_len,) + shape)\n",
    "\n",
    "    def append(self, values):\n",
    "        with h5py.File(self.datapath, mode='a') as h5f:\n",
    "            dset = h5f[self.dataset]\n",
    "            dset.resize((self.i + 1,) + self.shape)\n",
    "            dset[self.i] = [values]\n",
    "            self.i += 1\n",
    "            h5f.flush()\n",
    "# test\n",
    "shape = (20,20,3)\n",
    "hdf5_store = HDF5Store('./datab/fileresult.hdf5','X', shape=shape)\n",
    "for _ in range(10):\n",
    "    hdf5_store.append(np.random.random(shape))"
   ]
  },
  {
   "cell_type": "code",
   "execution_count": 6,
   "metadata": {},
   "outputs": [
    {
     "data": {
      "text/plain": [
       "'X'"
      ]
     },
     "execution_count": 6,
     "metadata": {},
     "output_type": "execute_result"
    }
   ],
   "source": [
    "hdf5_store.dataset."
   ]
  },
  {
   "cell_type": "code",
   "execution_count": null,
   "metadata": {},
   "outputs": [],
   "source": []
  },
  {
   "cell_type": "code",
   "execution_count": 3,
   "metadata": {},
   "outputs": [
    {
     "ename": "TypeError",
     "evalue": "'HDF5Store' object is not subscriptable",
     "output_type": "error",
     "traceback": [
      "\u001b[0;31m---------------------------------------------------------------------------\u001b[0m",
      "\u001b[0;31mTypeError\u001b[0m                                 Traceback (most recent call last)",
      "\u001b[0;32m<ipython-input-3-52e136e91f05>\u001b[0m in \u001b[0;36m<module>\u001b[0;34m\u001b[0m\n\u001b[0;32m----> 1\u001b[0;31m \u001b[0mhdf5_store\u001b[0m\u001b[0;34m[\u001b[0m\u001b[0;34m'saliencys'\u001b[0m\u001b[0;34m]\u001b[0m\u001b[0;34m\u001b[0m\u001b[0;34m\u001b[0m\u001b[0m\n\u001b[0m",
      "\u001b[0;31mTypeError\u001b[0m: 'HDF5Store' object is not subscriptable"
     ]
    }
   ],
   "source": [
    "hdf5_store['saliencys']"
   ]
  },
  {
   "cell_type": "markdown",
   "metadata": {},
   "source": [
    "# append dataset hdf5"
   ]
  },
  {
   "cell_type": "code",
   "execution_count": 10,
   "metadata": {},
   "outputs": [],
   "source": [
    "import numpy as np\n",
    "import h5py"
   ]
  },
  {
   "cell_type": "code",
   "execution_count": 12,
   "metadata": {},
   "outputs": [
    {
     "name": "stderr",
     "output_type": "stream",
     "text": [
      "/home/jake/venv/lib/python3.7/site-packages/ipykernel_launcher.py:1: H5pyDeprecationWarning: The default file mode will change to 'r' (read-only) in h5py 3.0. To suppress this warning, pass the mode you need to h5py.File(), or set the global default h5.get_config().default_file_mode, or set the environment variable H5PY_DEFAULT_READONLY=1. Available modes are: 'r', 'r+', 'w', 'w-'/'x', 'a'. See the docs for details.\n",
      "  \"\"\"Entry point for launching an IPython kernel.\n"
     ]
    }
   ],
   "source": [
    "hf = h5py.File(\"./testh5py.hdf5\")"
   ]
  },
  {
   "cell_type": "code",
   "execution_count": 13,
   "metadata": {},
   "outputs": [],
   "source": [
    "dset = hf.create_dataset(\"saliencys\",(3,32,32),dtype=\"i\")"
   ]
  },
  {
   "cell_type": "code",
   "execution_count": 15,
   "metadata": {},
   "outputs": [
    {
     "ename": "ValueError",
     "evalue": "Field names only allowed for compound types",
     "output_type": "error",
     "traceback": [
      "\u001b[0;31m---------------------------------------------------------------------------\u001b[0m",
      "\u001b[0;31mValueError\u001b[0m                                Traceback (most recent call last)",
      "\u001b[0;32m<ipython-input-15-2502e12aa3a1>\u001b[0m in \u001b[0;36m<module>\u001b[0;34m\u001b[0m\n\u001b[0;32m----> 1\u001b[0;31m \u001b[0mdset\u001b[0m\u001b[0;34m[\u001b[0m\u001b[0;34m'saliencys'\u001b[0m\u001b[0;34m]\u001b[0m\u001b[0;34m\u001b[0m\u001b[0;34m\u001b[0m\u001b[0m\n\u001b[0m",
      "\u001b[0;32mh5py/_objects.pyx\u001b[0m in \u001b[0;36mh5py._objects.with_phil.wrapper\u001b[0;34m()\u001b[0m\n",
      "\u001b[0;32mh5py/_objects.pyx\u001b[0m in \u001b[0;36mh5py._objects.with_phil.wrapper\u001b[0;34m()\u001b[0m\n",
      "\u001b[0;32m~/venv/lib/python3.7/site-packages/h5py/_hl/dataset.py\u001b[0m in \u001b[0;36m__getitem__\u001b[0;34m(self, args)\u001b[0m\n\u001b[1;32m    504\u001b[0m             \u001b[0;31m# This is necessary because in the case of array types, NumPy\u001b[0m\u001b[0;34m\u001b[0m\u001b[0;34m\u001b[0m\u001b[0;34m\u001b[0m\u001b[0m\n\u001b[1;32m    505\u001b[0m             \u001b[0;31m# discards the array information at the top level.\u001b[0m\u001b[0;34m\u001b[0m\u001b[0;34m\u001b[0m\u001b[0;34m\u001b[0m\u001b[0m\n\u001b[0;32m--> 506\u001b[0;31m             \u001b[0mnew_dtype\u001b[0m \u001b[0;34m=\u001b[0m \u001b[0mreadtime_dtype\u001b[0m\u001b[0;34m(\u001b[0m\u001b[0mself\u001b[0m\u001b[0;34m.\u001b[0m\u001b[0mid\u001b[0m\u001b[0;34m.\u001b[0m\u001b[0mdtype\u001b[0m\u001b[0;34m,\u001b[0m \u001b[0mnames\u001b[0m\u001b[0;34m)\u001b[0m\u001b[0;34m\u001b[0m\u001b[0;34m\u001b[0m\u001b[0m\n\u001b[0m\u001b[1;32m    507\u001b[0m         \u001b[0mmtype\u001b[0m \u001b[0;34m=\u001b[0m \u001b[0mh5t\u001b[0m\u001b[0;34m.\u001b[0m\u001b[0mpy_create\u001b[0m\u001b[0;34m(\u001b[0m\u001b[0mnew_dtype\u001b[0m\u001b[0;34m)\u001b[0m\u001b[0;34m\u001b[0m\u001b[0;34m\u001b[0m\u001b[0m\n\u001b[1;32m    508\u001b[0m \u001b[0;34m\u001b[0m\u001b[0m\n",
      "\u001b[0;32m~/venv/lib/python3.7/site-packages/h5py/_hl/dataset.py\u001b[0m in \u001b[0;36mreadtime_dtype\u001b[0;34m(basetype, names)\u001b[0m\n\u001b[1;32m     46\u001b[0m \u001b[0;34m\u001b[0m\u001b[0m\n\u001b[1;32m     47\u001b[0m     \u001b[0;32mif\u001b[0m \u001b[0mbasetype\u001b[0m\u001b[0;34m.\u001b[0m\u001b[0mnames\u001b[0m \u001b[0;32mis\u001b[0m \u001b[0;32mNone\u001b[0m\u001b[0;34m:\u001b[0m  \u001b[0;31m# Names provided, but not compound\u001b[0m\u001b[0;34m\u001b[0m\u001b[0;34m\u001b[0m\u001b[0m\n\u001b[0;32m---> 48\u001b[0;31m         \u001b[0;32mraise\u001b[0m \u001b[0mValueError\u001b[0m\u001b[0;34m(\u001b[0m\u001b[0;34m\"Field names only allowed for compound types\"\u001b[0m\u001b[0;34m)\u001b[0m\u001b[0;34m\u001b[0m\u001b[0;34m\u001b[0m\u001b[0m\n\u001b[0m\u001b[1;32m     49\u001b[0m \u001b[0;34m\u001b[0m\u001b[0m\n\u001b[1;32m     50\u001b[0m     \u001b[0;32mfor\u001b[0m \u001b[0mname\u001b[0m \u001b[0;32min\u001b[0m \u001b[0mnames\u001b[0m\u001b[0;34m:\u001b[0m  \u001b[0;31m# Check all names are legal\u001b[0m\u001b[0;34m\u001b[0m\u001b[0;34m\u001b[0m\u001b[0m\n",
      "\u001b[0;31mValueError\u001b[0m: Field names only allowed for compound types"
     ]
    }
   ],
   "source": []
  },
  {
   "cell_type": "code",
   "execution_count": null,
   "metadata": {},
   "outputs": [],
   "source": []
  }
 ],
 "metadata": {
  "kernelspec": {
   "display_name": "Python 3",
   "language": "python",
   "name": "python3"
  },
  "language_info": {
   "codemirror_mode": {
    "name": "ipython",
    "version": 3
   },
   "file_extension": ".py",
   "mimetype": "text/x-python",
   "name": "python",
   "nbconvert_exporter": "python",
   "pygments_lexer": "ipython3",
   "version": "3.7.3"
  }
 },
 "nbformat": 4,
 "nbformat_minor": 2
}
