{
 "cells": [
  {
   "cell_type": "code",
   "execution_count": null,
   "metadata": {},
   "outputs": [],
   "source": [
    "from __future__ import absolute_import, division, print_function, unicode_literals, unicode_literals\n",
    "\n",
    "import os\n",
    "\n",
    "try:\n",
    "  # Colab only\n",
    "  %tensorflow_version 2.x\n",
    "except Exception:\n",
    "    pass\n",
    "import tensorflow as tf\n",
    "from tensorflow import keras\n",
    "\n",
    "tf.__version__"
   ]
  },
  {
   "cell_type": "code",
   "execution_count": 2,
   "metadata": {},
   "outputs": [],
   "source": [
    "#!pip uninstall "
   ]
  },
  {
   "cell_type": "code",
   "execution_count": 3,
   "metadata": {},
   "outputs": [
    {
     "data": {
      "text/plain": [
       "True"
      ]
     },
     "execution_count": 3,
     "metadata": {},
     "output_type": "execute_result"
    }
   ],
   "source": [
    "tf.test.is_gpu_available()"
   ]
  },
  {
   "cell_type": "code",
   "execution_count": 4,
   "metadata": {},
   "outputs": [
    {
     "name": "stderr",
     "output_type": "stream",
     "text": [
      "Using TensorFlow backend.\n"
     ]
    }
   ],
   "source": [
    "import numpy as np\n",
    "import pandas as pd\n",
    "from keras.datasets import mnist\n",
    "import os\n",
    "import matplotlib.pyplot as plt\n",
    "from keras.layers import Dense, Dropout, Flatten\n",
    "from keras.layers import Conv2D, MaxPooling2D, Input\n",
    "from keras.models import Model\n",
    "from sklearn.model_selection import train_test_split\n",
    "from keras.models import Sequential\n",
    "from keras import backend as K"
   ]
  },
  {
   "cell_type": "code",
   "execution_count": 5,
   "metadata": {},
   "outputs": [],
   "source": [
    "num_classes = 10\n",
    "epochs = 20\n",
    "batch_size=256\n",
    "img_rows, img_cols = 32, 32"
   ]
  },
  {
   "cell_type": "code",
   "execution_count": 6,
   "metadata": {},
   "outputs": [
    {
     "data": {
      "text/plain": [
       "<tensorflow.python.client.session.Session at 0x7f92581350b8>"
      ]
     },
     "execution_count": 6,
     "metadata": {},
     "output_type": "execute_result"
    }
   ],
   "source": [
    "os.environ[\"CUDA_VISIBLE_DEVICES\"]=\"1\";  \n",
    "from keras.backend.tensorflow_backend import set_session\n",
    "config = tf.compat.v1.ConfigProto()\n",
    "config.gpu_options.per_process_gpu_memory_fraction = 0.8\n",
    "tf.compat.v1.Session(config=config)"
   ]
  },
  {
   "cell_type": "code",
   "execution_count": 7,
   "metadata": {},
   "outputs": [],
   "source": [
    "from keras.datasets import cifar10\n",
    "\n",
    "(x_train, y_train), (x_test, y_test) = cifar10.load_data()\n",
    "# convert class vectors to binary class matrices\n",
    "y_train = keras.utils.to_categorical(y_train, num_classes)\n",
    "y_test = keras.utils.to_categorical(y_test, num_classes)"
   ]
  },
  {
   "cell_type": "code",
   "execution_count": 12,
   "metadata": {},
   "outputs": [],
   "source": [
    "def model():\n",
    "    \n",
    "    inputs = Input(shape=(img_rows,img_rows,3))\n",
    "    x = Conv2D(24,kernel_size=(3,3),padding='same',activation=\"relu\")(inputs)\n",
    "    x = MaxPooling2D(pool_size=(2, 2))(x)\n",
    "    x = Conv2D(48, (3, 3), padding='same',activation='relu')(x)\n",
    "    x = MaxPooling2D(pool_size=(2, 2))(x)\n",
    "    x = Conv2D(64, (3, 3), padding='same',activation='relu')(x)\n",
    "    x = MaxPooling2D(pool_size=(2, 2))(x)\n",
    "    x = Flatten()(x)\n",
    "    x = Dense(128, activation='relu')(x)\n",
    "    x = Dropout(0.25)(x)\n",
    "    output = Dense(num_classes,activation=\"softmax\")(x)\n",
    "    \n",
    "    model = Model(inputs,output)\n",
    "    \n",
    "    model.compile(loss='categorical_crossentropy', \n",
    "              optimizer='adam', \n",
    "              metrics=['accuracy'])\n",
    "    \n",
    "    return model"
   ]
  },
  {
   "cell_type": "code",
   "execution_count": null,
   "metadata": {},
   "outputs": [],
   "source": [
    "# 모델 객체를 만듭니다\n",
    "model = model()\n",
    "model.summary()"
   ]
  },
  {
   "cell_type": "code",
   "execution_count": null,
   "metadata": {},
   "outputs": [],
   "source": [
    "from keras.applications.vgg16 import VGG16, preprocess_input\n",
    "model = VGG16(weights='imagenet')\n",
    "model.summary()"
   ]
  },
  {
   "cell_type": "code",
   "execution_count": 14,
   "metadata": {},
   "outputs": [],
   "source": [
    "model.compile(loss=keras.losses.categorical_crossentropy,\n",
    "              optimizer=keras.optimizers.Adadelta(),\n",
    "              metrics=['accuracy'])"
   ]
  },
  {
   "cell_type": "code",
   "execution_count": 15,
   "metadata": {},
   "outputs": [
    {
     "name": "stdout",
     "output_type": "stream",
     "text": [
      "Train on 50000 samples, validate on 10000 samples\n",
      "Epoch 1/100\n",
      "50000/50000 [==============================] - 3s 68us/step - loss: 65.0144 - accuracy: 0.0977 - val_loss: 41.5917 - val_accuracy: 0.0948\n",
      "Epoch 2/100\n",
      "50000/50000 [==============================] - 2s 35us/step - loss: 44.9057 - accuracy: 0.1012 - val_loss: 23.1784 - val_accuracy: 0.0941\n",
      "Epoch 3/100\n",
      "50000/50000 [==============================] - 2s 35us/step - loss: 31.8343 - accuracy: 0.1010 - val_loss: 14.7816 - val_accuracy: 0.0967\n",
      "Epoch 4/100\n",
      "50000/50000 [==============================] - 2s 35us/step - loss: 24.5097 - accuracy: 0.1038 - val_loss: 10.7651 - val_accuracy: 0.1033\n",
      "Epoch 5/100\n",
      "50000/50000 [==============================] - 2s 36us/step - loss: 19.0108 - accuracy: 0.1074 - val_loss: 8.5726 - val_accuracy: 0.1165\n",
      "Epoch 6/100\n",
      "50000/50000 [==============================] - 2s 36us/step - loss: 15.1364 - accuracy: 0.1155 - val_loss: 7.4777 - val_accuracy: 0.1244\n",
      "Epoch 7/100\n",
      "50000/50000 [==============================] - 2s 40us/step - loss: 12.0004 - accuracy: 0.1208 - val_loss: 6.5215 - val_accuracy: 0.1345\n",
      "Epoch 8/100\n",
      "50000/50000 [==============================] - 2s 37us/step - loss: 9.4058 - accuracy: 0.1270 - val_loss: 5.5600 - val_accuracy: 0.1422\n",
      "Epoch 9/100\n",
      "50000/50000 [==============================] - 2s 37us/step - loss: 7.2487 - accuracy: 0.1358 - val_loss: 4.6467 - val_accuracy: 0.1557\n",
      "Epoch 10/100\n",
      "50000/50000 [==============================] - 2s 37us/step - loss: 5.5852 - accuracy: 0.1457 - val_loss: 3.8665 - val_accuracy: 0.1661\n",
      "Epoch 11/100\n",
      "50000/50000 [==============================] - 2s 38us/step - loss: 4.3157 - accuracy: 0.1546 - val_loss: 3.2684 - val_accuracy: 0.1673\n",
      "Epoch 12/100\n",
      "50000/50000 [==============================] - 2s 36us/step - loss: 3.5122 - accuracy: 0.1597 - val_loss: 2.8759 - val_accuracy: 0.1648\n",
      "Epoch 13/100\n",
      "50000/50000 [==============================] - 2s 36us/step - loss: 3.0358 - accuracy: 0.1541 - val_loss: 2.6348 - val_accuracy: 0.1601\n",
      "Epoch 14/100\n",
      "50000/50000 [==============================] - 2s 37us/step - loss: 2.7417 - accuracy: 0.1509 - val_loss: 2.4920 - val_accuracy: 0.1555\n",
      "Epoch 15/100\n",
      "50000/50000 [==============================] - 2s 38us/step - loss: 2.5837 - accuracy: 0.1450 - val_loss: 2.4047 - val_accuracy: 0.1537\n",
      "Epoch 16/100\n",
      "50000/50000 [==============================] - 2s 36us/step - loss: 2.4778 - accuracy: 0.1424 - val_loss: 2.3543 - val_accuracy: 0.1538\n",
      "Epoch 17/100\n",
      "50000/50000 [==============================] - 2s 38us/step - loss: 2.4170 - accuracy: 0.1408 - val_loss: 2.3211 - val_accuracy: 0.1536\n",
      "Epoch 18/100\n",
      "50000/50000 [==============================] - 2s 35us/step - loss: 2.3810 - accuracy: 0.1389 - val_loss: 2.2986 - val_accuracy: 0.1518\n",
      "Epoch 19/100\n",
      "50000/50000 [==============================] - 2s 36us/step - loss: 2.3459 - accuracy: 0.1410 - val_loss: 2.2828 - val_accuracy: 0.1532\n",
      "Epoch 20/100\n",
      "50000/50000 [==============================] - 2s 36us/step - loss: 2.3276 - accuracy: 0.1415 - val_loss: 2.2701 - val_accuracy: 0.1565\n",
      "Epoch 21/100\n",
      "50000/50000 [==============================] - 2s 38us/step - loss: 2.3090 - accuracy: 0.1453 - val_loss: 2.2576 - val_accuracy: 0.1599\n",
      "Epoch 22/100\n",
      "50000/50000 [==============================] - 2s 38us/step - loss: 2.3015 - accuracy: 0.1593 - val_loss: 2.2505 - val_accuracy: 0.1815\n",
      "Epoch 23/100\n",
      "50000/50000 [==============================] - 2s 38us/step - loss: 2.2902 - accuracy: 0.1646 - val_loss: 2.2429 - val_accuracy: 0.1834\n",
      "Epoch 24/100\n",
      "50000/50000 [==============================] - 2s 36us/step - loss: 2.2791 - accuracy: 0.1662 - val_loss: 2.2364 - val_accuracy: 0.1855\n",
      "Epoch 25/100\n",
      "50000/50000 [==============================] - 2s 36us/step - loss: 2.2701 - accuracy: 0.1672 - val_loss: 2.2291 - val_accuracy: 0.1864\n",
      "Epoch 26/100\n",
      "50000/50000 [==============================] - 2s 36us/step - loss: 2.2680 - accuracy: 0.1684 - val_loss: 2.2231 - val_accuracy: 0.1870\n",
      "Epoch 27/100\n",
      "50000/50000 [==============================] - 2s 37us/step - loss: 2.2601 - accuracy: 0.1702 - val_loss: 2.2167 - val_accuracy: 0.1881\n",
      "Epoch 28/100\n",
      "50000/50000 [==============================] - 2s 38us/step - loss: 2.2526 - accuracy: 0.1700 - val_loss: 2.2103 - val_accuracy: 0.1899\n",
      "Epoch 29/100\n",
      "50000/50000 [==============================] - 2s 36us/step - loss: 2.2497 - accuracy: 0.1696 - val_loss: 2.2072 - val_accuracy: 0.1898\n",
      "Epoch 30/100\n",
      "50000/50000 [==============================] - 2s 36us/step - loss: 2.2438 - accuracy: 0.1715 - val_loss: 2.2004 - val_accuracy: 0.1911\n",
      "Epoch 31/100\n",
      "50000/50000 [==============================] - 2s 37us/step - loss: 2.2436 - accuracy: 0.1722 - val_loss: 2.1955 - val_accuracy: 0.1923\n",
      "Epoch 32/100\n",
      "50000/50000 [==============================] - 2s 36us/step - loss: 2.2385 - accuracy: 0.1717 - val_loss: 2.1906 - val_accuracy: 0.1937\n",
      "Epoch 33/100\n",
      "50000/50000 [==============================] - 2s 39us/step - loss: 2.2318 - accuracy: 0.1741 - val_loss: 2.1865 - val_accuracy: 0.1960\n",
      "Epoch 34/100\n",
      "50000/50000 [==============================] - 2s 36us/step - loss: 2.2299 - accuracy: 0.1755 - val_loss: 2.1809 - val_accuracy: 0.1971\n",
      "Epoch 35/100\n",
      "50000/50000 [==============================] - 2s 35us/step - loss: 2.2237 - accuracy: 0.1783 - val_loss: 2.1774 - val_accuracy: 0.1996\n",
      "Epoch 36/100\n",
      "50000/50000 [==============================] - 2s 36us/step - loss: 2.2203 - accuracy: 0.1775 - val_loss: 2.1733 - val_accuracy: 0.2011\n",
      "Epoch 37/100\n",
      "50000/50000 [==============================] - 2s 37us/step - loss: 2.2161 - accuracy: 0.1788 - val_loss: 2.1679 - val_accuracy: 0.2025\n",
      "Epoch 38/100\n",
      "50000/50000 [==============================] - 2s 37us/step - loss: 2.2125 - accuracy: 0.1782 - val_loss: 2.1649 - val_accuracy: 0.2038\n",
      "Epoch 39/100\n",
      "50000/50000 [==============================] - 2s 35us/step - loss: 2.2110 - accuracy: 0.1805 - val_loss: 2.1601 - val_accuracy: 0.2050\n",
      "Epoch 40/100\n",
      "50000/50000 [==============================] - 2s 35us/step - loss: 2.2084 - accuracy: 0.1823 - val_loss: 2.1576 - val_accuracy: 0.2056\n",
      "Epoch 41/100\n",
      "50000/50000 [==============================] - 2s 37us/step - loss: 2.2016 - accuracy: 0.1844 - val_loss: 2.1526 - val_accuracy: 0.2056\n",
      "Epoch 42/100\n",
      "50000/50000 [==============================] - 2s 36us/step - loss: 2.2015 - accuracy: 0.1844 - val_loss: 2.1494 - val_accuracy: 0.2067\n",
      "Epoch 43/100\n",
      "50000/50000 [==============================] - 2s 36us/step - loss: 2.1975 - accuracy: 0.1841 - val_loss: 2.1477 - val_accuracy: 0.2077\n",
      "Epoch 44/100\n",
      "50000/50000 [==============================] - 2s 40us/step - loss: 2.1978 - accuracy: 0.1850 - val_loss: 2.1440 - val_accuracy: 0.2091\n",
      "Epoch 45/100\n",
      "50000/50000 [==============================] - 2s 36us/step - loss: 2.1932 - accuracy: 0.1858 - val_loss: 2.1391 - val_accuracy: 0.2108\n",
      "Epoch 46/100\n",
      "50000/50000 [==============================] - 2s 40us/step - loss: 2.1900 - accuracy: 0.1884 - val_loss: 2.1361 - val_accuracy: 0.2114\n",
      "Epoch 47/100\n",
      "50000/50000 [==============================] - 2s 39us/step - loss: 2.1864 - accuracy: 0.1896 - val_loss: 2.1328 - val_accuracy: 0.2139\n",
      "Epoch 48/100\n",
      "50000/50000 [==============================] - 2s 36us/step - loss: 2.1814 - accuracy: 0.1918 - val_loss: 2.1262 - val_accuracy: 0.2176\n",
      "Epoch 49/100\n",
      "50000/50000 [==============================] - 2s 37us/step - loss: 2.1802 - accuracy: 0.1899 - val_loss: 2.1246 - val_accuracy: 0.2170\n",
      "Epoch 50/100\n",
      "50000/50000 [==============================] - 2s 36us/step - loss: 2.1781 - accuracy: 0.1916 - val_loss: 2.1236 - val_accuracy: 0.2174\n",
      "Epoch 51/100\n",
      "50000/50000 [==============================] - 2s 41us/step - loss: 2.1736 - accuracy: 0.1949 - val_loss: 2.1197 - val_accuracy: 0.2206\n",
      "Epoch 52/100\n",
      "50000/50000 [==============================] - 2s 38us/step - loss: 2.1739 - accuracy: 0.1929 - val_loss: 2.1159 - val_accuracy: 0.2216\n",
      "Epoch 53/100\n",
      "50000/50000 [==============================] - 2s 37us/step - loss: 2.1700 - accuracy: 0.1951 - val_loss: 2.1128 - val_accuracy: 0.2220\n",
      "Epoch 54/100\n",
      "50000/50000 [==============================] - 2s 36us/step - loss: 2.1660 - accuracy: 0.1950 - val_loss: 2.1103 - val_accuracy: 0.2229\n",
      "Epoch 55/100\n"
     ]
    },
    {
     "name": "stdout",
     "output_type": "stream",
     "text": [
      "50000/50000 [==============================] - 2s 35us/step - loss: 2.1658 - accuracy: 0.1965 - val_loss: 2.1080 - val_accuracy: 0.2238\n",
      "Epoch 56/100\n",
      "50000/50000 [==============================] - 2s 37us/step - loss: 2.1626 - accuracy: 0.1977 - val_loss: 2.1048 - val_accuracy: 0.2249\n",
      "Epoch 57/100\n",
      "50000/50000 [==============================] - 2s 36us/step - loss: 2.1559 - accuracy: 0.1984 - val_loss: 2.1020 - val_accuracy: 0.2247\n",
      "Epoch 58/100\n",
      "50000/50000 [==============================] - 2s 36us/step - loss: 2.1548 - accuracy: 0.2004 - val_loss: 2.0974 - val_accuracy: 0.2280\n",
      "Epoch 59/100\n",
      "50000/50000 [==============================] - 2s 39us/step - loss: 2.1539 - accuracy: 0.2030 - val_loss: 2.0958 - val_accuracy: 0.2306\n",
      "Epoch 60/100\n",
      "50000/50000 [==============================] - 2s 35us/step - loss: 2.1513 - accuracy: 0.2024 - val_loss: 2.0922 - val_accuracy: 0.2290\n",
      "Epoch 61/100\n",
      "50000/50000 [==============================] - 2s 37us/step - loss: 2.1513 - accuracy: 0.2007 - val_loss: 2.0896 - val_accuracy: 0.2307\n",
      "Epoch 62/100\n",
      "50000/50000 [==============================] - 2s 36us/step - loss: 2.1486 - accuracy: 0.2029 - val_loss: 2.0865 - val_accuracy: 0.2333\n",
      "Epoch 63/100\n",
      "50000/50000 [==============================] - 2s 39us/step - loss: 2.1460 - accuracy: 0.2042 - val_loss: 2.0828 - val_accuracy: 0.2361\n",
      "Epoch 64/100\n",
      "50000/50000 [==============================] - 2s 39us/step - loss: 2.1423 - accuracy: 0.2059 - val_loss: 2.0798 - val_accuracy: 0.2365\n",
      "Epoch 65/100\n",
      "50000/50000 [==============================] - 2s 35us/step - loss: 2.1371 - accuracy: 0.2074 - val_loss: 2.0767 - val_accuracy: 0.2385\n",
      "Epoch 66/100\n",
      "50000/50000 [==============================] - 2s 41us/step - loss: 2.1403 - accuracy: 0.2044 - val_loss: 2.0759 - val_accuracy: 0.2372\n",
      "Epoch 67/100\n",
      "50000/50000 [==============================] - 2s 37us/step - loss: 2.1347 - accuracy: 0.2067 - val_loss: 2.0728 - val_accuracy: 0.2398\n",
      "Epoch 68/100\n",
      "50000/50000 [==============================] - 2s 38us/step - loss: 2.1301 - accuracy: 0.2117 - val_loss: 2.0702 - val_accuracy: 0.2421\n",
      "Epoch 69/100\n",
      "50000/50000 [==============================] - 2s 36us/step - loss: 2.1318 - accuracy: 0.2092 - val_loss: 2.0665 - val_accuracy: 0.2432\n",
      "Epoch 70/100\n",
      "50000/50000 [==============================] - 2s 36us/step - loss: 2.1272 - accuracy: 0.2134 - val_loss: 2.0636 - val_accuracy: 0.2446\n",
      "Epoch 71/100\n",
      "50000/50000 [==============================] - 2s 40us/step - loss: 2.1262 - accuracy: 0.2132 - val_loss: 2.0614 - val_accuracy: 0.2458\n",
      "Epoch 72/100\n",
      "50000/50000 [==============================] - 2s 40us/step - loss: 2.1245 - accuracy: 0.2129 - val_loss: 2.0573 - val_accuracy: 0.2469\n",
      "Epoch 73/100\n",
      "50000/50000 [==============================] - 2s 39us/step - loss: 2.1222 - accuracy: 0.2152 - val_loss: 2.0552 - val_accuracy: 0.2475\n",
      "Epoch 74/100\n",
      "50000/50000 [==============================] - 2s 35us/step - loss: 2.1200 - accuracy: 0.2150 - val_loss: 2.0526 - val_accuracy: 0.2448\n",
      "Epoch 75/100\n",
      "50000/50000 [==============================] - 2s 35us/step - loss: 2.1148 - accuracy: 0.2158 - val_loss: 2.0511 - val_accuracy: 0.2485\n",
      "Epoch 76/100\n",
      "50000/50000 [==============================] - 2s 36us/step - loss: 2.1145 - accuracy: 0.2184 - val_loss: 2.0477 - val_accuracy: 0.2511\n",
      "Epoch 77/100\n",
      "50000/50000 [==============================] - 2s 37us/step - loss: 2.1161 - accuracy: 0.2146 - val_loss: 2.0450 - val_accuracy: 0.2528\n",
      "Epoch 78/100\n",
      "50000/50000 [==============================] - 2s 36us/step - loss: 2.1122 - accuracy: 0.2165 - val_loss: 2.0422 - val_accuracy: 0.2529\n",
      "Epoch 79/100\n",
      "50000/50000 [==============================] - 2s 37us/step - loss: 2.1098 - accuracy: 0.2194 - val_loss: 2.0403 - val_accuracy: 0.2518\n",
      "Epoch 80/100\n",
      "50000/50000 [==============================] - 2s 36us/step - loss: 2.1037 - accuracy: 0.2220 - val_loss: 2.0352 - val_accuracy: 0.2562\n",
      "Epoch 81/100\n",
      "50000/50000 [==============================] - 2s 39us/step - loss: 2.1054 - accuracy: 0.2210 - val_loss: 2.0357 - val_accuracy: 0.2563\n",
      "Epoch 82/100\n",
      "50000/50000 [==============================] - 2s 37us/step - loss: 2.1003 - accuracy: 0.2225 - val_loss: 2.0310 - val_accuracy: 0.2574\n",
      "Epoch 83/100\n",
      "50000/50000 [==============================] - 2s 37us/step - loss: 2.1032 - accuracy: 0.2247 - val_loss: 2.0296 - val_accuracy: 0.2589\n",
      "Epoch 84/100\n",
      "50000/50000 [==============================] - 2s 39us/step - loss: 2.0999 - accuracy: 0.2237 - val_loss: 2.0260 - val_accuracy: 0.2607\n",
      "Epoch 85/100\n",
      "50000/50000 [==============================] - 2s 37us/step - loss: 2.1000 - accuracy: 0.2238 - val_loss: 2.0257 - val_accuracy: 0.2604\n",
      "Epoch 86/100\n",
      "50000/50000 [==============================] - 2s 38us/step - loss: 2.0960 - accuracy: 0.2266 - val_loss: 2.0221 - val_accuracy: 0.2610\n",
      "Epoch 87/100\n",
      "50000/50000 [==============================] - 2s 38us/step - loss: 2.0930 - accuracy: 0.2242 - val_loss: 2.0184 - val_accuracy: 0.2627\n",
      "Epoch 88/100\n",
      "50000/50000 [==============================] - 2s 36us/step - loss: 2.0891 - accuracy: 0.2250 - val_loss: 2.0162 - val_accuracy: 0.2639\n",
      "Epoch 89/100\n",
      "50000/50000 [==============================] - 2s 37us/step - loss: 2.0870 - accuracy: 0.2275 - val_loss: 2.0123 - val_accuracy: 0.2665\n",
      "Epoch 90/100\n",
      "50000/50000 [==============================] - 2s 38us/step - loss: 2.0848 - accuracy: 0.2276 - val_loss: 2.0119 - val_accuracy: 0.2678\n",
      "Epoch 91/100\n",
      "50000/50000 [==============================] - 2s 37us/step - loss: 2.0849 - accuracy: 0.2288 - val_loss: 2.0122 - val_accuracy: 0.2680\n",
      "Epoch 92/100\n",
      "50000/50000 [==============================] - 2s 40us/step - loss: 2.0823 - accuracy: 0.2278 - val_loss: 2.0080 - val_accuracy: 0.2691\n",
      "Epoch 93/100\n",
      "50000/50000 [==============================] - 2s 39us/step - loss: 2.0838 - accuracy: 0.2301 - val_loss: 2.0042 - val_accuracy: 0.2717\n",
      "Epoch 94/100\n",
      "50000/50000 [==============================] - 2s 37us/step - loss: 2.0794 - accuracy: 0.2301 - val_loss: 2.0017 - val_accuracy: 0.2733\n",
      "Epoch 95/100\n",
      "50000/50000 [==============================] - 2s 38us/step - loss: 2.0761 - accuracy: 0.2311 - val_loss: 2.0005 - val_accuracy: 0.2743\n",
      "Epoch 96/100\n",
      "50000/50000 [==============================] - 2s 37us/step - loss: 2.0723 - accuracy: 0.2330 - val_loss: 1.9970 - val_accuracy: 0.2764\n",
      "Epoch 97/100\n",
      "50000/50000 [==============================] - 2s 40us/step - loss: 2.0703 - accuracy: 0.2357 - val_loss: 1.9947 - val_accuracy: 0.2775\n",
      "Epoch 98/100\n",
      "50000/50000 [==============================] - 2s 37us/step - loss: 2.0724 - accuracy: 0.2330 - val_loss: 1.9929 - val_accuracy: 0.2772\n",
      "Epoch 99/100\n",
      "50000/50000 [==============================] - 2s 37us/step - loss: 2.0686 - accuracy: 0.2356 - val_loss: 1.9899 - val_accuracy: 0.2797\n",
      "Epoch 100/100\n",
      "50000/50000 [==============================] - 2s 39us/step - loss: 2.0663 - accuracy: 0.2364 - val_loss: 1.9877 - val_accuracy: 0.2805\n",
      "Test loss: 1.9877347026824952\n",
      "Test accuracy: 0.28049999475479126\n"
     ]
    }
   ],
   "source": [
    "if K.image_data_format() == 'channels_first':\n",
    "    x_train = x_train.reshape(x_train.shape[0], 3, img_rows, img_cols)\n",
    "    x_test = x_test.reshape(x_test.shape[0], 3, img_rows, img_cols)\n",
    "    input_shape = (3, img_rows, img_cols)\n",
    "else:\n",
    "    x_train = x_train.reshape(x_train.shape[0], img_rows, img_cols, 3)\n",
    "    x_test = x_test.reshape(x_test.shape[0], img_rows, img_cols, 3)\n",
    "    input_shape = (img_rows, img_cols, 3)\n",
    "\n",
    "model.fit(x_train, y_train,\n",
    "          batch_size=batch_size,\n",
    "          epochs=100,\n",
    "          verbose=1,\n",
    "          validation_data=(x_test, y_test))\n",
    "score = model.evaluate(x_test, y_test, verbose=0)\n",
    "print('Test loss:', score[0])\n",
    "print('Test accuracy:', score[1])"
   ]
  },
  {
   "cell_type": "code",
   "execution_count": 86,
   "metadata": {},
   "outputs": [
    {
     "name": "stderr",
     "output_type": "stream",
     "text": [
      "/home/jake/venv/lib/python3.7/site-packages/keras/engine/saving.py:165: UserWarning: TensorFlow optimizers do not make it possible to access optimizer attributes or optimizer state after instantiation. As a result, we cannot save the optimizer as part of the model save file.You will have to compile your model again after loading it. Prefer using a Keras optimizer instead (see keras.io/optimizers).\n",
      "  'TensorFlow optimizers do not '\n"
     ]
    }
   ],
   "source": [
    "model.save('../models/cifar10_gradcam.h5')"
   ]
  },
  {
   "cell_type": "markdown",
   "metadata": {},
   "source": [
    "# reference"
   ]
  },
  {
   "cell_type": "code",
   "execution_count": 87,
   "metadata": {},
   "outputs": [
    {
     "data": {
      "text/plain": [
       "\"\\nfrom __future__ import print_function\\nimport keras\\nfrom keras.datasets import mnist\\nfrom keras.models import Sequential\\nfrom keras.layers import Dense, Dropout, Flatten\\nfrom keras.layers import Conv2D, MaxPooling2D\\nfrom keras import backend as K\\n\\nbatch_size = 128\\nnum_classes = 10\\nepochs = 12\\n\\n# input image dimensions\\nimg_rows, img_cols = 28, 28\\n\\n# the data, split between train and test sets\\n(x_train, y_train), (x_test, y_test) = mnist.load_data()\\nprint(x_train.shape)\\nif K.image_data_format() == 'channels_first':\\n    x_train = x_train.reshape(x_train.shape[0], 1, img_rows, img_cols)\\n    x_test = x_test.reshape(x_test.shape[0], 1, img_rows, img_cols)\\n    input_shape = (1, img_rows, img_cols)\\nelse:\\n    x_train = x_train.reshape(x_train.shape[0], img_rows, img_cols, 1)\\n    x_test = x_test.reshape(x_test.shape[0], img_rows, img_cols, 1)\\n    input_shape = (img_rows, img_cols, 1)\\n\\nx_train = x_train.astype('float32')\\nx_test = x_test.astype('float32')\\nx_train /= 255\\nx_test /= 255\\nprint('x_train shape:', x_train.shape)\\nprint(x_train.shape[0], 'train samples')\\nprint(x_test.shape[0], 'test samples')\\n\\n# convert class vectors to binary class matrices\\ny_train = keras.utils.to_categorical(y_train, num_classes)\\ny_test = keras.utils.to_categorical(y_test, num_classes)\\n\\nmodel = Sequential()\\nmodel.add(Conv2D(32, kernel_size=(3, 3),\\n                 activation='relu',\\n                 input_shape=input_shape))\\nmodel.add(Conv2D(64, (3, 3), activation='relu'))\\nmodel.add(MaxPooling2D(pool_size=(2, 2)))\\nmodel.add(Dropout(0.25))\\nmodel.add(Flatten())\\nmodel.add(Dense(128, activation='relu'))\\nmodel.add(Dropout(0.5))\\nmodel.add(Dense(num_classes, activation='softmax'))\\n\\nmodel.compile(loss=keras.losses.categorical_crossentropy,\\n              optimizer=keras.optimizers.Adadelta(),\\n              metrics=['accuracy'])\\n\\nmodel.fit(x_train, y_train,\\n          batch_size=batch_size,\\n          epochs=epochs,\\n          verbose=1,\\n          validation_data=(x_test, y_test))\\nscore = model.evaluate(x_test, y_test, verbose=0)\\nprint('Test loss:', score[0])\\nprint('Test accuracy:', score[1])\\n\""
      ]
     },
     "execution_count": 87,
     "metadata": {},
     "output_type": "execute_result"
    }
   ],
   "source": [
    "'''\n",
    "from __future__ import print_function\n",
    "import keras\n",
    "from keras.datasets import mnist\n",
    "from keras.models import Sequential\n",
    "from keras.layers import Dense, Dropout, Flatten\n",
    "from keras.layers import Conv2D, MaxPooling2D\n",
    "from keras import backend as K\n",
    "\n",
    "batch_size = 128\n",
    "num_classes = 10\n",
    "epochs = 12\n",
    "\n",
    "# input image dimensions\n",
    "img_rows, img_cols = 28, 28\n",
    "\n",
    "# the data, split between train and test sets\n",
    "(x_train, y_train), (x_test, y_test) = mnist.load_data()\n",
    "print(x_train.shape)\n",
    "if K.image_data_format() == 'channels_first':\n",
    "    x_train = x_train.reshape(x_train.shape[0], 1, img_rows, img_cols)\n",
    "    x_test = x_test.reshape(x_test.shape[0], 1, img_rows, img_cols)\n",
    "    input_shape = (1, img_rows, img_cols)\n",
    "else:\n",
    "    x_train = x_train.reshape(x_train.shape[0], img_rows, img_cols, 1)\n",
    "    x_test = x_test.reshape(x_test.shape[0], img_rows, img_cols, 1)\n",
    "    input_shape = (img_rows, img_cols, 1)\n",
    "\n",
    "x_train = x_train.astype('float32')\n",
    "x_test = x_test.astype('float32')\n",
    "x_train /= 255\n",
    "x_test /= 255\n",
    "print('x_train shape:', x_train.shape)\n",
    "print(x_train.shape[0], 'train samples')\n",
    "print(x_test.shape[0], 'test samples')\n",
    "\n",
    "# convert class vectors to binary class matrices\n",
    "y_train = keras.utils.to_categorical(y_train, num_classes)\n",
    "y_test = keras.utils.to_categorical(y_test, num_classes)\n",
    "\n",
    "model = Sequential()\n",
    "model.add(Conv2D(32, kernel_size=(3, 3),\n",
    "                 activation='relu',\n",
    "                 input_shape=input_shape))\n",
    "model.add(Conv2D(64, (3, 3), activation='relu'))\n",
    "model.add(MaxPooling2D(pool_size=(2, 2)))\n",
    "model.add(Dropout(0.25))\n",
    "model.add(Flatten())\n",
    "model.add(Dense(128, activation='relu'))\n",
    "model.add(Dropout(0.5))\n",
    "model.add(Dense(num_classes, activation='softmax'))\n",
    "\n",
    "model.compile(loss=keras.losses.categorical_crossentropy,\n",
    "              optimizer=keras.optimizers.Adadelta(),\n",
    "              metrics=['accuracy'])\n",
    "\n",
    "model.fit(x_train, y_train,\n",
    "          batch_size=batch_size,\n",
    "          epochs=epochs,\n",
    "          verbose=1,\n",
    "          validation_data=(x_test, y_test))\n",
    "score = model.evaluate(x_test, y_test, verbose=0)\n",
    "print('Test loss:', score[0])\n",
    "print('Test accuracy:', score[1])\n",
    "'''"
   ]
  },
  {
   "cell_type": "code",
   "execution_count": null,
   "metadata": {},
   "outputs": [],
   "source": []
  },
  {
   "cell_type": "code",
   "execution_count": null,
   "metadata": {},
   "outputs": [],
   "source": []
  }
 ],
 "metadata": {
  "kernelspec": {
   "display_name": "Python 3",
   "language": "python",
   "name": "python3"
  },
  "language_info": {
   "codemirror_mode": {
    "name": "ipython",
    "version": 3
   },
   "file_extension": ".py",
   "mimetype": "text/x-python",
   "name": "python",
   "nbconvert_exporter": "python",
   "pygments_lexer": "ipython3",
   "version": "3.7.3"
  }
 },
 "nbformat": 4,
 "nbformat_minor": 2
}
