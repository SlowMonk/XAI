{
 "cells": [
  {
   "cell_type": "code",
   "execution_count": 3,
   "metadata": {},
   "outputs": [
    {
     "data": {
      "text/plain": [
       "'2.0.0'"
      ]
     },
     "execution_count": 3,
     "metadata": {},
     "output_type": "execute_result"
    }
   ],
   "source": [
    "from __future__ import absolute_import, division, print_function, unicode_literals, unicode_literals\n",
    "\n",
    "import os\n",
    "\n",
    "try:\n",
    "  # Colab only\n",
    "  %tensorflow_version 2.x\n",
    "except Exception:\n",
    "    pass\n",
    "import tensorflow as tf\n",
    "from tensorflow import keras\n",
    "\n",
    "tf.__version__"
   ]
  },
  {
   "cell_type": "code",
   "execution_count": 4,
   "metadata": {},
   "outputs": [
    {
     "name": "stderr",
     "output_type": "stream",
     "text": [
      "Using TensorFlow backend.\n"
     ]
    }
   ],
   "source": [
    "import numpy as np\n",
    "import pandas as pd\n",
    "import os\n",
    "import matplotlib.pyplot as plt\n",
    "from keras.layers import Dense, Dropout, Flatten\n",
    "from keras.layers import Conv2D, MaxPooling2D, Input,GlobalAveragePooling2D\n",
    "from keras.models import Model\n",
    "from sklearn.model_selection import train_test_split\n",
    "from keras.datasets import mnist\n",
    "from keras import backend as K"
   ]
  },
  {
   "cell_type": "code",
   "execution_count": 5,
   "metadata": {},
   "outputs": [],
   "source": [
    "num_classes = 10\n",
    "epochs = 20\n",
    "batch_size=256\n",
    "img_rows, img_cols = 28, 28"
   ]
  },
  {
   "cell_type": "code",
   "execution_count": 6,
   "metadata": {},
   "outputs": [
    {
     "data": {
      "text/plain": [
       "<tensorflow.python.client.session.Session at 0x7fb8ed3c2668>"
      ]
     },
     "execution_count": 6,
     "metadata": {},
     "output_type": "execute_result"
    }
   ],
   "source": [
    "os.environ[\"CUDA_VISIBLE_DEVICES\"]=\"1\";  \n",
    "from keras.backend.tensorflow_backend import set_session\n",
    "config = tf.compat.v1.ConfigProto()\n",
    "config.gpu_options.per_process_gpu_memory_fraction = 0.8\n",
    "tf.compat.v1.Session(config=config)"
   ]
  },
  {
   "cell_type": "code",
   "execution_count": 7,
   "metadata": {},
   "outputs": [],
   "source": [
    "(train_images, train_labels), (test_images, test_labels) = tf.keras.datasets.mnist.load_data()\n",
    "\n",
    "train_labels = train_labels[:1000]\n",
    "test_labels = test_labels[:1000]\n",
    "\n",
    "train_images = train_images[:1000].reshape(-1, 28 * 28) / 255.0\n",
    "test_images = test_images[:1000].reshape(-1, 28 * 28) / 255.0"
   ]
  },
  {
   "cell_type": "code",
   "execution_count": 8,
   "metadata": {},
   "outputs": [],
   "source": [
    "(x_train, y_train), (x_test, y_test) = mnist.load_data()\n",
    "# convert class vectors to binary class matrices\n",
    "y_train = keras.utils.to_categorical(y_train, num_classes)\n",
    "y_test = keras.utils.to_categorical(y_test, num_classes)"
   ]
  },
  {
   "cell_type": "code",
   "execution_count": 9,
   "metadata": {},
   "outputs": [],
   "source": [
    "def model():\n",
    "    \n",
    "    inputs = Input(shape=(28,28,1))\n",
    "    x = Conv2D(24,kernel_size=(3,3),padding='same',activation=\"relu\")(inputs)\n",
    "    #x = MaxPooling2D(pool_size=(2, 2))(x)\n",
    "    x = GlobalAveragePooling2D()(x)\n",
    "\n",
    "    x = Conv2D(48, (3, 3), padding='same',activation='relu')(x)\n",
    "    # = MaxPooling2D(pool_size=(2, 2))(x)\n",
    "    x = GlobalAveragePooling2D()(x)\n",
    "\n",
    "    x = Conv2D(64, (3, 3), padding='same',activation='relu')(x)\n",
    "    #x = MaxPooling2D(pool_size=(2, 2))(x)\n",
    "    #x = Flatten()(x)\n",
    "    x = GlobalAveragePooling2D()(x)\n",
    "    x = Dense(128, activation='relu')(x)\n",
    "    x = Dropout(0.25)(x)\n",
    "    output = Dense(num_classes,activation=\"softmax\")(x)\n",
    "    \n",
    "    model = Model(inputs,output)\n",
    "    \n",
    "    model.compile(loss='categorical_crossentropy', \n",
    "              optimizer='adam', \n",
    "              metrics=['accuracy'])\n",
    "    \n",
    "    return model"
   ]
  },
  {
   "cell_type": "code",
   "execution_count": 10,
   "metadata": {},
   "outputs": [
    {
     "ename": "ValueError",
     "evalue": "Input 0 is incompatible with layer conv2d_2: expected ndim=4, found ndim=2",
     "output_type": "error",
     "traceback": [
      "\u001b[0;31m---------------------------------------------------------------------------\u001b[0m",
      "\u001b[0;31mValueError\u001b[0m                                Traceback (most recent call last)",
      "\u001b[0;32m<ipython-input-10-2751faec8ed7>\u001b[0m in \u001b[0;36m<module>\u001b[0;34m\u001b[0m\n\u001b[1;32m      1\u001b[0m \u001b[0;31m# 모델 객체를 만듭니다\u001b[0m\u001b[0;34m\u001b[0m\u001b[0;34m\u001b[0m\u001b[0;34m\u001b[0m\u001b[0m\n\u001b[0;32m----> 2\u001b[0;31m \u001b[0mmodel\u001b[0m \u001b[0;34m=\u001b[0m \u001b[0mmodel\u001b[0m\u001b[0;34m(\u001b[0m\u001b[0;34m)\u001b[0m\u001b[0;34m\u001b[0m\u001b[0;34m\u001b[0m\u001b[0m\n\u001b[0m\u001b[1;32m      3\u001b[0m \u001b[0mmodel\u001b[0m\u001b[0;34m.\u001b[0m\u001b[0msummary\u001b[0m\u001b[0;34m(\u001b[0m\u001b[0;34m)\u001b[0m\u001b[0;34m\u001b[0m\u001b[0;34m\u001b[0m\u001b[0m\n",
      "\u001b[0;32m<ipython-input-9-b22a853b5aac>\u001b[0m in \u001b[0;36mmodel\u001b[0;34m()\u001b[0m\n\u001b[1;32m      6\u001b[0m     \u001b[0mx\u001b[0m \u001b[0;34m=\u001b[0m \u001b[0mGlobalAveragePooling2D\u001b[0m\u001b[0;34m(\u001b[0m\u001b[0;34m)\u001b[0m\u001b[0;34m(\u001b[0m\u001b[0mx\u001b[0m\u001b[0;34m)\u001b[0m\u001b[0;34m\u001b[0m\u001b[0;34m\u001b[0m\u001b[0m\n\u001b[1;32m      7\u001b[0m \u001b[0;34m\u001b[0m\u001b[0m\n\u001b[0;32m----> 8\u001b[0;31m     \u001b[0mx\u001b[0m \u001b[0;34m=\u001b[0m \u001b[0mConv2D\u001b[0m\u001b[0;34m(\u001b[0m\u001b[0;36m48\u001b[0m\u001b[0;34m,\u001b[0m \u001b[0;34m(\u001b[0m\u001b[0;36m3\u001b[0m\u001b[0;34m,\u001b[0m \u001b[0;36m3\u001b[0m\u001b[0;34m)\u001b[0m\u001b[0;34m,\u001b[0m \u001b[0mpadding\u001b[0m\u001b[0;34m=\u001b[0m\u001b[0;34m'same'\u001b[0m\u001b[0;34m,\u001b[0m\u001b[0mactivation\u001b[0m\u001b[0;34m=\u001b[0m\u001b[0;34m'relu'\u001b[0m\u001b[0;34m)\u001b[0m\u001b[0;34m(\u001b[0m\u001b[0mx\u001b[0m\u001b[0;34m)\u001b[0m\u001b[0;34m\u001b[0m\u001b[0;34m\u001b[0m\u001b[0m\n\u001b[0m\u001b[1;32m      9\u001b[0m     \u001b[0;31m# = MaxPooling2D(pool_size=(2, 2))(x)\u001b[0m\u001b[0;34m\u001b[0m\u001b[0;34m\u001b[0m\u001b[0;34m\u001b[0m\u001b[0m\n\u001b[1;32m     10\u001b[0m     \u001b[0mx\u001b[0m \u001b[0;34m=\u001b[0m \u001b[0mGlobalAveragePooling2D\u001b[0m\u001b[0;34m(\u001b[0m\u001b[0;34m)\u001b[0m\u001b[0;34m(\u001b[0m\u001b[0mx\u001b[0m\u001b[0;34m)\u001b[0m\u001b[0;34m\u001b[0m\u001b[0;34m\u001b[0m\u001b[0m\n",
      "\u001b[0;32m~/venv/lib/python3.7/site-packages/keras/backend/tensorflow_backend.py\u001b[0m in \u001b[0;36msymbolic_fn_wrapper\u001b[0;34m(*args, **kwargs)\u001b[0m\n\u001b[1;32m     73\u001b[0m         \u001b[0;32mif\u001b[0m \u001b[0m_SYMBOLIC_SCOPE\u001b[0m\u001b[0;34m.\u001b[0m\u001b[0mvalue\u001b[0m\u001b[0;34m:\u001b[0m\u001b[0;34m\u001b[0m\u001b[0;34m\u001b[0m\u001b[0m\n\u001b[1;32m     74\u001b[0m             \u001b[0;32mwith\u001b[0m \u001b[0mget_graph\u001b[0m\u001b[0;34m(\u001b[0m\u001b[0;34m)\u001b[0m\u001b[0;34m.\u001b[0m\u001b[0mas_default\u001b[0m\u001b[0;34m(\u001b[0m\u001b[0;34m)\u001b[0m\u001b[0;34m:\u001b[0m\u001b[0;34m\u001b[0m\u001b[0;34m\u001b[0m\u001b[0m\n\u001b[0;32m---> 75\u001b[0;31m                 \u001b[0;32mreturn\u001b[0m \u001b[0mfunc\u001b[0m\u001b[0;34m(\u001b[0m\u001b[0;34m*\u001b[0m\u001b[0margs\u001b[0m\u001b[0;34m,\u001b[0m \u001b[0;34m**\u001b[0m\u001b[0mkwargs\u001b[0m\u001b[0;34m)\u001b[0m\u001b[0;34m\u001b[0m\u001b[0;34m\u001b[0m\u001b[0m\n\u001b[0m\u001b[1;32m     76\u001b[0m         \u001b[0;32melse\u001b[0m\u001b[0;34m:\u001b[0m\u001b[0;34m\u001b[0m\u001b[0;34m\u001b[0m\u001b[0m\n\u001b[1;32m     77\u001b[0m             \u001b[0;32mreturn\u001b[0m \u001b[0mfunc\u001b[0m\u001b[0;34m(\u001b[0m\u001b[0;34m*\u001b[0m\u001b[0margs\u001b[0m\u001b[0;34m,\u001b[0m \u001b[0;34m**\u001b[0m\u001b[0mkwargs\u001b[0m\u001b[0;34m)\u001b[0m\u001b[0;34m\u001b[0m\u001b[0;34m\u001b[0m\u001b[0m\n",
      "\u001b[0;32m~/venv/lib/python3.7/site-packages/keras/engine/base_layer.py\u001b[0m in \u001b[0;36m__call__\u001b[0;34m(self, inputs, **kwargs)\u001b[0m\n\u001b[1;32m    444\u001b[0m                 \u001b[0;31m# Raise exceptions in case the input is not compatible\u001b[0m\u001b[0;34m\u001b[0m\u001b[0;34m\u001b[0m\u001b[0;34m\u001b[0m\u001b[0m\n\u001b[1;32m    445\u001b[0m                 \u001b[0;31m# with the input_spec specified in the layer constructor.\u001b[0m\u001b[0;34m\u001b[0m\u001b[0;34m\u001b[0m\u001b[0;34m\u001b[0m\u001b[0m\n\u001b[0;32m--> 446\u001b[0;31m                 \u001b[0mself\u001b[0m\u001b[0;34m.\u001b[0m\u001b[0massert_input_compatibility\u001b[0m\u001b[0;34m(\u001b[0m\u001b[0minputs\u001b[0m\u001b[0;34m)\u001b[0m\u001b[0;34m\u001b[0m\u001b[0;34m\u001b[0m\u001b[0m\n\u001b[0m\u001b[1;32m    447\u001b[0m \u001b[0;34m\u001b[0m\u001b[0m\n\u001b[1;32m    448\u001b[0m                 \u001b[0;31m# Collect input shapes to build layer.\u001b[0m\u001b[0;34m\u001b[0m\u001b[0;34m\u001b[0m\u001b[0;34m\u001b[0m\u001b[0m\n",
      "\u001b[0;32m~/venv/lib/python3.7/site-packages/keras/engine/base_layer.py\u001b[0m in \u001b[0;36massert_input_compatibility\u001b[0;34m(self, inputs)\u001b[0m\n\u001b[1;32m    340\u001b[0m                                      \u001b[0mself\u001b[0m\u001b[0;34m.\u001b[0m\u001b[0mname\u001b[0m \u001b[0;34m+\u001b[0m \u001b[0;34m': expected ndim='\u001b[0m \u001b[0;34m+\u001b[0m\u001b[0;34m\u001b[0m\u001b[0;34m\u001b[0m\u001b[0m\n\u001b[1;32m    341\u001b[0m                                      \u001b[0mstr\u001b[0m\u001b[0;34m(\u001b[0m\u001b[0mspec\u001b[0m\u001b[0;34m.\u001b[0m\u001b[0mndim\u001b[0m\u001b[0;34m)\u001b[0m \u001b[0;34m+\u001b[0m \u001b[0;34m', found ndim='\u001b[0m \u001b[0;34m+\u001b[0m\u001b[0;34m\u001b[0m\u001b[0;34m\u001b[0m\u001b[0m\n\u001b[0;32m--> 342\u001b[0;31m                                      str(K.ndim(x)))\n\u001b[0m\u001b[1;32m    343\u001b[0m             \u001b[0;32mif\u001b[0m \u001b[0mspec\u001b[0m\u001b[0;34m.\u001b[0m\u001b[0mmax_ndim\u001b[0m \u001b[0;32mis\u001b[0m \u001b[0;32mnot\u001b[0m \u001b[0;32mNone\u001b[0m\u001b[0;34m:\u001b[0m\u001b[0;34m\u001b[0m\u001b[0;34m\u001b[0m\u001b[0m\n\u001b[1;32m    344\u001b[0m                 \u001b[0mndim\u001b[0m \u001b[0;34m=\u001b[0m \u001b[0mK\u001b[0m\u001b[0;34m.\u001b[0m\u001b[0mndim\u001b[0m\u001b[0;34m(\u001b[0m\u001b[0mx\u001b[0m\u001b[0;34m)\u001b[0m\u001b[0;34m\u001b[0m\u001b[0;34m\u001b[0m\u001b[0m\n",
      "\u001b[0;31mValueError\u001b[0m: Input 0 is incompatible with layer conv2d_2: expected ndim=4, found ndim=2"
     ]
    }
   ],
   "source": [
    "# 모델 객체를 만듭니다\n",
    "model = model()\n",
    "model.summary()"
   ]
  },
  {
   "cell_type": "code",
   "execution_count": 23,
   "metadata": {},
   "outputs": [],
   "source": [
    "model.compile(loss=keras.losses.categorical_crossentropy,\n",
    "              optimizer=keras.optimizers.Adadelta(),\n",
    "              metrics=['accuracy'])"
   ]
  },
  {
   "cell_type": "code",
   "execution_count": 26,
   "metadata": {},
   "outputs": [
    {
     "name": "stdout",
     "output_type": "stream",
     "text": [
      "Train on 60000 samples, validate on 10000 samples\n",
      "Epoch 1/100\n",
      "60000/60000 [==============================] - 2s 40us/step - loss: 16.0244 - accuracy: 0.1049 - val_loss: 9.5319 - val_accuracy: 0.0880\n",
      "Epoch 2/100\n",
      "60000/60000 [==============================] - 1s 22us/step - loss: 12.7853 - accuracy: 0.1057 - val_loss: 6.8950 - val_accuracy: 0.1048\n",
      "Epoch 3/100\n",
      "60000/60000 [==============================] - 1s 22us/step - loss: 10.1939 - accuracy: 0.1145 - val_loss: 5.1269 - val_accuracy: 0.1388\n",
      "Epoch 4/100\n",
      "60000/60000 [==============================] - 1s 22us/step - loss: 8.0783 - accuracy: 0.1214 - val_loss: 3.8885 - val_accuracy: 0.1576\n",
      "Epoch 5/100\n",
      "60000/60000 [==============================] - 1s 22us/step - loss: 6.4543 - accuracy: 0.1255 - val_loss: 2.9924 - val_accuracy: 0.1788\n",
      "Epoch 6/100\n",
      "60000/60000 [==============================] - 1s 22us/step - loss: 5.1763 - accuracy: 0.1369 - val_loss: 2.4244 - val_accuracy: 0.2173\n",
      "Epoch 7/100\n",
      "60000/60000 [==============================] - 1s 22us/step - loss: 4.3420 - accuracy: 0.1539 - val_loss: 2.1500 - val_accuracy: 0.2669\n",
      "Epoch 8/100\n",
      "60000/60000 [==============================] - 1s 23us/step - loss: 3.7561 - accuracy: 0.1707 - val_loss: 1.9991 - val_accuracy: 0.3141\n",
      "Epoch 9/100\n",
      "60000/60000 [==============================] - 1s 23us/step - loss: 3.3091 - accuracy: 0.1950 - val_loss: 1.9032 - val_accuracy: 0.3414\n",
      "Epoch 10/100\n",
      "60000/60000 [==============================] - 1s 22us/step - loss: 2.9861 - accuracy: 0.2145 - val_loss: 1.8211 - val_accuracy: 0.3776\n",
      "Epoch 11/100\n",
      "60000/60000 [==============================] - 1s 23us/step - loss: 2.7245 - accuracy: 0.2343 - val_loss: 1.7526 - val_accuracy: 0.4051\n",
      "Epoch 12/100\n",
      "60000/60000 [==============================] - 1s 23us/step - loss: 2.5043 - accuracy: 0.2625 - val_loss: 1.6899 - val_accuracy: 0.4318\n",
      "Epoch 13/100\n",
      "60000/60000 [==============================] - 1s 22us/step - loss: 2.3464 - accuracy: 0.2832 - val_loss: 1.6382 - val_accuracy: 0.4537\n",
      "Epoch 14/100\n",
      "60000/60000 [==============================] - 1s 23us/step - loss: 2.2105 - accuracy: 0.3041 - val_loss: 1.5927 - val_accuracy: 0.4768\n",
      "Epoch 15/100\n",
      "60000/60000 [==============================] - 1s 22us/step - loss: 2.1066 - accuracy: 0.3253 - val_loss: 1.5525 - val_accuracy: 0.4955\n",
      "Epoch 16/100\n",
      "60000/60000 [==============================] - 1s 23us/step - loss: 2.0074 - accuracy: 0.3451 - val_loss: 1.5106 - val_accuracy: 0.5210\n",
      "Epoch 17/100\n",
      "60000/60000 [==============================] - 1s 22us/step - loss: 1.9338 - accuracy: 0.3607 - val_loss: 1.4742 - val_accuracy: 0.5378\n",
      "Epoch 18/100\n",
      "60000/60000 [==============================] - 1s 22us/step - loss: 1.8547 - accuracy: 0.3842 - val_loss: 1.4350 - val_accuracy: 0.5586\n",
      "Epoch 19/100\n",
      "60000/60000 [==============================] - 1s 22us/step - loss: 1.7943 - accuracy: 0.4025 - val_loss: 1.4008 - val_accuracy: 0.5728\n",
      "Epoch 20/100\n",
      "60000/60000 [==============================] - 1s 22us/step - loss: 1.7369 - accuracy: 0.4171 - val_loss: 1.3628 - val_accuracy: 0.5969\n",
      "Epoch 21/100\n",
      "60000/60000 [==============================] - 1s 22us/step - loss: 1.6842 - accuracy: 0.4378 - val_loss: 1.3266 - val_accuracy: 0.6111\n",
      "Epoch 22/100\n",
      "60000/60000 [==============================] - 1s 22us/step - loss: 1.6310 - accuracy: 0.4540 - val_loss: 1.2900 - val_accuracy: 0.6276\n",
      "Epoch 23/100\n",
      "60000/60000 [==============================] - 1s 23us/step - loss: 1.5761 - accuracy: 0.4737 - val_loss: 1.2503 - val_accuracy: 0.6447\n",
      "Epoch 24/100\n",
      "60000/60000 [==============================] - 1s 23us/step - loss: 1.5317 - accuracy: 0.4878 - val_loss: 1.2095 - val_accuracy: 0.6626\n",
      "Epoch 25/100\n",
      "60000/60000 [==============================] - 1s 23us/step - loss: 1.4862 - accuracy: 0.5052 - val_loss: 1.1727 - val_accuracy: 0.6765\n",
      "Epoch 26/100\n",
      "60000/60000 [==============================] - 1s 23us/step - loss: 1.4455 - accuracy: 0.5203 - val_loss: 1.1375 - val_accuracy: 0.6917\n",
      "Epoch 27/100\n",
      "60000/60000 [==============================] - 1s 23us/step - loss: 1.4071 - accuracy: 0.5372 - val_loss: 1.1081 - val_accuracy: 0.7002\n",
      "Epoch 28/100\n",
      "60000/60000 [==============================] - 1s 23us/step - loss: 1.3684 - accuracy: 0.5493 - val_loss: 1.0780 - val_accuracy: 0.7108\n",
      "Epoch 29/100\n",
      "60000/60000 [==============================] - 1s 23us/step - loss: 1.3411 - accuracy: 0.5571 - val_loss: 1.0513 - val_accuracy: 0.7210\n",
      "Epoch 30/100\n",
      "60000/60000 [==============================] - 1s 23us/step - loss: 1.3070 - accuracy: 0.5734 - val_loss: 1.0241 - val_accuracy: 0.7316\n",
      "Epoch 31/100\n",
      "60000/60000 [==============================] - 1s 23us/step - loss: 1.2776 - accuracy: 0.5825 - val_loss: 0.9972 - val_accuracy: 0.7389\n",
      "Epoch 32/100\n",
      "60000/60000 [==============================] - 1s 24us/step - loss: 1.2462 - accuracy: 0.5952 - val_loss: 0.9713 - val_accuracy: 0.7471\n",
      "Epoch 33/100\n",
      "60000/60000 [==============================] - 1s 23us/step - loss: 1.2205 - accuracy: 0.6040 - val_loss: 0.9465 - val_accuracy: 0.7543\n",
      "Epoch 34/100\n",
      "60000/60000 [==============================] - 1s 23us/step - loss: 1.1960 - accuracy: 0.6132 - val_loss: 0.9212 - val_accuracy: 0.7617\n",
      "Epoch 35/100\n",
      "60000/60000 [==============================] - 1s 23us/step - loss: 1.1663 - accuracy: 0.6231 - val_loss: 0.8968 - val_accuracy: 0.7679\n",
      "Epoch 36/100\n",
      "60000/60000 [==============================] - 1s 23us/step - loss: 1.1373 - accuracy: 0.6341 - val_loss: 0.8732 - val_accuracy: 0.7750\n",
      "Epoch 37/100\n",
      "60000/60000 [==============================] - 1s 23us/step - loss: 1.1164 - accuracy: 0.6400 - val_loss: 0.8503 - val_accuracy: 0.7827\n",
      "Epoch 38/100\n",
      "60000/60000 [==============================] - 1s 23us/step - loss: 1.0895 - accuracy: 0.6523 - val_loss: 0.8276 - val_accuracy: 0.7902\n",
      "Epoch 39/100\n",
      "60000/60000 [==============================] - 1s 22us/step - loss: 1.0712 - accuracy: 0.6576 - val_loss: 0.8070 - val_accuracy: 0.7949\n",
      "Epoch 40/100\n",
      "60000/60000 [==============================] - 1s 23us/step - loss: 1.0445 - accuracy: 0.6666 - val_loss: 0.7860 - val_accuracy: 0.8029\n",
      "Epoch 41/100\n",
      "60000/60000 [==============================] - 1s 23us/step - loss: 1.0320 - accuracy: 0.6724 - val_loss: 0.7692 - val_accuracy: 0.8056\n",
      "Epoch 42/100\n",
      "60000/60000 [==============================] - 1s 23us/step - loss: 1.0055 - accuracy: 0.6806 - val_loss: 0.7496 - val_accuracy: 0.8113\n",
      "Epoch 43/100\n",
      "60000/60000 [==============================] - 1s 22us/step - loss: 0.9928 - accuracy: 0.6869 - val_loss: 0.7334 - val_accuracy: 0.8142\n",
      "Epoch 44/100\n",
      "60000/60000 [==============================] - 1s 23us/step - loss: 0.9708 - accuracy: 0.6930 - val_loss: 0.7167 - val_accuracy: 0.8198\n",
      "Epoch 45/100\n",
      "60000/60000 [==============================] - 1s 22us/step - loss: 0.9524 - accuracy: 0.6986 - val_loss: 0.7003 - val_accuracy: 0.8240\n",
      "Epoch 46/100\n",
      "60000/60000 [==============================] - 1s 23us/step - loss: 0.9376 - accuracy: 0.7045 - val_loss: 0.6840 - val_accuracy: 0.8284\n",
      "Epoch 47/100\n",
      "60000/60000 [==============================] - 1s 23us/step - loss: 0.9231 - accuracy: 0.7113 - val_loss: 0.6699 - val_accuracy: 0.8313\n",
      "Epoch 48/100\n",
      "60000/60000 [==============================] - 1s 22us/step - loss: 0.9041 - accuracy: 0.7165 - val_loss: 0.6556 - val_accuracy: 0.8351\n",
      "Epoch 49/100\n",
      "60000/60000 [==============================] - 1s 22us/step - loss: 0.8887 - accuracy: 0.7208 - val_loss: 0.6413 - val_accuracy: 0.8387\n",
      "Epoch 50/100\n",
      "60000/60000 [==============================] - 1s 22us/step - loss: 0.8699 - accuracy: 0.7273 - val_loss: 0.6279 - val_accuracy: 0.8422\n",
      "Epoch 51/100\n",
      "60000/60000 [==============================] - 1s 23us/step - loss: 0.8586 - accuracy: 0.7328 - val_loss: 0.6153 - val_accuracy: 0.8458\n",
      "Epoch 52/100\n",
      "60000/60000 [==============================] - 1s 23us/step - loss: 0.8414 - accuracy: 0.7371 - val_loss: 0.6017 - val_accuracy: 0.8489\n",
      "Epoch 53/100\n",
      "60000/60000 [==============================] - 1s 23us/step - loss: 0.8313 - accuracy: 0.7401 - val_loss: 0.5900 - val_accuracy: 0.8513\n",
      "Epoch 54/100\n",
      "60000/60000 [==============================] - 1s 23us/step - loss: 0.8154 - accuracy: 0.7454 - val_loss: 0.5774 - val_accuracy: 0.8544\n",
      "Epoch 55/100\n",
      "60000/60000 [==============================] - 1s 22us/step - loss: 0.8052 - accuracy: 0.7481 - val_loss: 0.5675 - val_accuracy: 0.8571\n"
     ]
    },
    {
     "name": "stdout",
     "output_type": "stream",
     "text": [
      "Epoch 56/100\n",
      "60000/60000 [==============================] - 1s 22us/step - loss: 0.7888 - accuracy: 0.7553 - val_loss: 0.5562 - val_accuracy: 0.8599\n",
      "Epoch 57/100\n",
      "60000/60000 [==============================] - 1s 22us/step - loss: 0.7808 - accuracy: 0.7600 - val_loss: 0.5462 - val_accuracy: 0.8612\n",
      "Epoch 58/100\n",
      "60000/60000 [==============================] - 1s 22us/step - loss: 0.7698 - accuracy: 0.7618 - val_loss: 0.5360 - val_accuracy: 0.8640\n",
      "Epoch 59/100\n",
      "60000/60000 [==============================] - 1s 22us/step - loss: 0.7573 - accuracy: 0.7649 - val_loss: 0.5260 - val_accuracy: 0.8673\n",
      "Epoch 60/100\n",
      "60000/60000 [==============================] - 1s 22us/step - loss: 0.7474 - accuracy: 0.7667 - val_loss: 0.5170 - val_accuracy: 0.8687\n",
      "Epoch 61/100\n",
      "60000/60000 [==============================] - 1s 22us/step - loss: 0.7355 - accuracy: 0.7713 - val_loss: 0.5076 - val_accuracy: 0.8714\n",
      "Epoch 62/100\n",
      "60000/60000 [==============================] - 1s 23us/step - loss: 0.7219 - accuracy: 0.7773 - val_loss: 0.4985 - val_accuracy: 0.8725\n",
      "Epoch 63/100\n",
      "60000/60000 [==============================] - 1s 22us/step - loss: 0.7160 - accuracy: 0.7799 - val_loss: 0.4899 - val_accuracy: 0.8759\n",
      "Epoch 64/100\n",
      "60000/60000 [==============================] - 1s 23us/step - loss: 0.7061 - accuracy: 0.7817 - val_loss: 0.4823 - val_accuracy: 0.8779\n",
      "Epoch 65/100\n",
      "60000/60000 [==============================] - 1s 22us/step - loss: 0.6973 - accuracy: 0.7844 - val_loss: 0.4746 - val_accuracy: 0.8797\n",
      "Epoch 66/100\n",
      "60000/60000 [==============================] - 1s 23us/step - loss: 0.6903 - accuracy: 0.7877 - val_loss: 0.4669 - val_accuracy: 0.8815\n",
      "Epoch 67/100\n",
      "60000/60000 [==============================] - 1s 23us/step - loss: 0.6785 - accuracy: 0.7911 - val_loss: 0.4598 - val_accuracy: 0.8828\n",
      "Epoch 68/100\n",
      "60000/60000 [==============================] - 1s 23us/step - loss: 0.6718 - accuracy: 0.7929 - val_loss: 0.4519 - val_accuracy: 0.8842\n",
      "Epoch 69/100\n",
      "60000/60000 [==============================] - 1s 22us/step - loss: 0.6612 - accuracy: 0.7972 - val_loss: 0.4447 - val_accuracy: 0.8859\n",
      "Epoch 70/100\n",
      "60000/60000 [==============================] - 1s 22us/step - loss: 0.6443 - accuracy: 0.8021 - val_loss: 0.4374 - val_accuracy: 0.8874\n",
      "Epoch 71/100\n",
      "60000/60000 [==============================] - 1s 22us/step - loss: 0.6445 - accuracy: 0.8020 - val_loss: 0.4315 - val_accuracy: 0.8891\n",
      "Epoch 72/100\n",
      "60000/60000 [==============================] - 1s 22us/step - loss: 0.6331 - accuracy: 0.8054 - val_loss: 0.4251 - val_accuracy: 0.8900\n",
      "Epoch 73/100\n",
      "60000/60000 [==============================] - 1s 22us/step - loss: 0.6263 - accuracy: 0.8072 - val_loss: 0.4183 - val_accuracy: 0.8918\n",
      "Epoch 74/100\n",
      "60000/60000 [==============================] - 1s 22us/step - loss: 0.6203 - accuracy: 0.8104 - val_loss: 0.4126 - val_accuracy: 0.8937\n",
      "Epoch 75/100\n",
      "60000/60000 [==============================] - 1s 23us/step - loss: 0.6132 - accuracy: 0.8115 - val_loss: 0.4067 - val_accuracy: 0.8952\n",
      "Epoch 76/100\n",
      "60000/60000 [==============================] - 1s 22us/step - loss: 0.6052 - accuracy: 0.8137 - val_loss: 0.4013 - val_accuracy: 0.8965\n",
      "Epoch 77/100\n",
      "60000/60000 [==============================] - 1s 23us/step - loss: 0.5961 - accuracy: 0.8164 - val_loss: 0.3959 - val_accuracy: 0.8973\n",
      "Epoch 78/100\n",
      "60000/60000 [==============================] - 1s 23us/step - loss: 0.5898 - accuracy: 0.8200 - val_loss: 0.3902 - val_accuracy: 0.8987\n",
      "Epoch 79/100\n",
      "60000/60000 [==============================] - 1s 22us/step - loss: 0.5847 - accuracy: 0.8217 - val_loss: 0.3855 - val_accuracy: 0.8997\n",
      "Epoch 80/100\n",
      "60000/60000 [==============================] - 1s 22us/step - loss: 0.5767 - accuracy: 0.8251 - val_loss: 0.3809 - val_accuracy: 0.9004\n",
      "Epoch 81/100\n",
      "60000/60000 [==============================] - 1s 23us/step - loss: 0.5693 - accuracy: 0.8258 - val_loss: 0.3752 - val_accuracy: 0.9020\n",
      "Epoch 82/100\n",
      "60000/60000 [==============================] - 1s 23us/step - loss: 0.5655 - accuracy: 0.8267 - val_loss: 0.3712 - val_accuracy: 0.9023\n",
      "Epoch 83/100\n",
      "60000/60000 [==============================] - 1s 22us/step - loss: 0.5563 - accuracy: 0.8298 - val_loss: 0.3659 - val_accuracy: 0.9044\n",
      "Epoch 84/100\n",
      "60000/60000 [==============================] - 1s 22us/step - loss: 0.5509 - accuracy: 0.8327 - val_loss: 0.3618 - val_accuracy: 0.9050\n",
      "Epoch 85/100\n",
      "60000/60000 [==============================] - 1s 23us/step - loss: 0.5491 - accuracy: 0.8333 - val_loss: 0.3573 - val_accuracy: 0.9061\n",
      "Epoch 86/100\n",
      "60000/60000 [==============================] - 1s 24us/step - loss: 0.5386 - accuracy: 0.8348 - val_loss: 0.3531 - val_accuracy: 0.9085\n",
      "Epoch 87/100\n",
      "60000/60000 [==============================] - 1s 23us/step - loss: 0.5365 - accuracy: 0.8375 - val_loss: 0.3485 - val_accuracy: 0.9081\n",
      "Epoch 88/100\n",
      "60000/60000 [==============================] - 1s 23us/step - loss: 0.5293 - accuracy: 0.8391 - val_loss: 0.3442 - val_accuracy: 0.9091\n",
      "Epoch 89/100\n",
      "60000/60000 [==============================] - 1s 23us/step - loss: 0.5214 - accuracy: 0.8417 - val_loss: 0.3405 - val_accuracy: 0.9106\n",
      "Epoch 90/100\n",
      "60000/60000 [==============================] - 1s 23us/step - loss: 0.5195 - accuracy: 0.8425 - val_loss: 0.3367 - val_accuracy: 0.9126\n",
      "Epoch 91/100\n",
      "60000/60000 [==============================] - 1s 23us/step - loss: 0.5141 - accuracy: 0.8444 - val_loss: 0.3329 - val_accuracy: 0.9122\n",
      "Epoch 92/100\n",
      "60000/60000 [==============================] - 1s 23us/step - loss: 0.5104 - accuracy: 0.8445 - val_loss: 0.3292 - val_accuracy: 0.9134\n",
      "Epoch 93/100\n",
      "60000/60000 [==============================] - 1s 22us/step - loss: 0.5009 - accuracy: 0.8481 - val_loss: 0.3256 - val_accuracy: 0.9139\n",
      "Epoch 94/100\n",
      "60000/60000 [==============================] - 1s 22us/step - loss: 0.4986 - accuracy: 0.8490 - val_loss: 0.3214 - val_accuracy: 0.9147\n",
      "Epoch 95/100\n",
      "60000/60000 [==============================] - 1s 23us/step - loss: 0.4967 - accuracy: 0.8486 - val_loss: 0.3190 - val_accuracy: 0.9152\n",
      "Epoch 96/100\n",
      "60000/60000 [==============================] - 1s 22us/step - loss: 0.4854 - accuracy: 0.8518 - val_loss: 0.3156 - val_accuracy: 0.9164\n",
      "Epoch 97/100\n",
      "60000/60000 [==============================] - 1s 22us/step - loss: 0.4901 - accuracy: 0.8528 - val_loss: 0.3118 - val_accuracy: 0.9173\n",
      "Epoch 98/100\n",
      "60000/60000 [==============================] - 1s 22us/step - loss: 0.4825 - accuracy: 0.8548 - val_loss: 0.3092 - val_accuracy: 0.9177\n",
      "Epoch 99/100\n",
      "60000/60000 [==============================] - 1s 22us/step - loss: 0.4758 - accuracy: 0.8554 - val_loss: 0.3058 - val_accuracy: 0.9182\n",
      "Epoch 100/100\n",
      "60000/60000 [==============================] - 1s 22us/step - loss: 0.4709 - accuracy: 0.8573 - val_loss: 0.3017 - val_accuracy: 0.9201\n",
      "Test loss: 0.30172373819351195\n",
      "Test accuracy: 0.9200999736785889\n"
     ]
    }
   ],
   "source": [
    "if K.image_data_format() == 'channels_first':\n",
    "    x_train = x_train.reshape(x_train.shape[0], 1, img_rows, img_cols)\n",
    "    x_test = x_test.reshape(x_test.shape[0], 1, img_rows, img_cols)\n",
    "    input_shape = (1, img_rows, img_cols)\n",
    "else:\n",
    "    x_train = x_train.reshape(x_train.shape[0], img_rows, img_cols, 1)\n",
    "    x_test = x_test.reshape(x_test.shape[0], img_rows, img_cols, 1)\n",
    "    input_shape = (img_rows, img_cols, 1)\n",
    "\n",
    "\n",
    "model.fit(x_train, y_train,\n",
    "          batch_size=batch_size,\n",
    "          epochs=100,\n",
    "          verbose=1,\n",
    "          validation_data=(x_test, y_test))\n",
    "score = model.evaluate(x_test, y_test, verbose=0)\n",
    "print('Test loss:', score[0])\n",
    "print('Test accuracy:', score[1])"
   ]
  },
  {
   "cell_type": "code",
   "execution_count": 27,
   "metadata": {},
   "outputs": [
    {
     "name": "stderr",
     "output_type": "stream",
     "text": [
      "/home/jake/venv/lib/python3.7/site-packages/keras/engine/saving.py:165: UserWarning: TensorFlow optimizers do not make it possible to access optimizer attributes or optimizer state after instantiation. As a result, we cannot save the optimizer as part of the model save file.You will have to compile your model again after loading it. Prefer using a Keras optimizer instead (see keras.io/optimizers).\n",
      "  'TensorFlow optimizers do not '\n"
     ]
    }
   ],
   "source": [
    "model.save('../models/mnist_cam.h5')"
   ]
  },
  {
   "cell_type": "code",
   "execution_count": null,
   "metadata": {},
   "outputs": [],
   "source": []
  }
 ],
 "metadata": {
  "kernelspec": {
   "display_name": "Python 3",
   "language": "python",
   "name": "python3"
  },
  "language_info": {
   "codemirror_mode": {
    "name": "ipython",
    "version": 3
   },
   "file_extension": ".py",
   "mimetype": "text/x-python",
   "name": "python",
   "nbconvert_exporter": "python",
   "pygments_lexer": "ipython3",
   "version": "3.7.3"
  }
 },
 "nbformat": 4,
 "nbformat_minor": 2
}
