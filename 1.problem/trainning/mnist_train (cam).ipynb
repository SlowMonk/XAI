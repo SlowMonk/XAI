{
 "cells": [
  {
   "cell_type": "code",
   "execution_count": 34,
   "metadata": {},
   "outputs": [
    {
     "data": {
      "text/plain": [
       "'2.0.0'"
      ]
     },
     "execution_count": 34,
     "metadata": {},
     "output_type": "execute_result"
    }
   ],
   "source": [
    "from __future__ import absolute_import, division, print_function, unicode_literals, unicode_literals\n",
    "\n",
    "import os\n",
    "\n",
    "try:\n",
    "  # Colab only\n",
    "  %tensorflow_version 2.x\n",
    "except Exception:\n",
    "    pass\n",
    "import tensorflow as tf\n",
    "from tensorflow import keras\n",
    "\n",
    "tf.__version__"
   ]
  },
  {
   "cell_type": "code",
   "execution_count": 35,
   "metadata": {},
   "outputs": [],
   "source": [
    "import numpy as np\n",
    "import pandas as pd\n",
    "import os\n",
    "import matplotlib.pyplot as plt\n",
    "from keras.layers import Dense, Dropout, Flatten\n",
    "from keras.layers import Conv2D, MaxPooling2D, Input,GlobalAveragePooling2D\n",
    "from keras.models import Model\n",
    "from sklearn.model_selection import train_test_split\n",
    "from keras.datasets import mnist\n",
    "from keras import backend as K"
   ]
  },
  {
   "cell_type": "code",
   "execution_count": 36,
   "metadata": {},
   "outputs": [],
   "source": [
    "num_classes = 10\n",
    "epochs = 20\n",
    "batch_size=256\n",
    "img_rows, img_cols = 28, 28"
   ]
  },
  {
   "cell_type": "code",
   "execution_count": 37,
   "metadata": {},
   "outputs": [
    {
     "data": {
      "text/plain": [
       "<tensorflow.python.client.session.Session at 0x7fb9e73f5860>"
      ]
     },
     "execution_count": 37,
     "metadata": {},
     "output_type": "execute_result"
    }
   ],
   "source": [
    "os.environ[\"CUDA_VISIBLE_DEVICES\"]=\"1\";  \n",
    "from keras.backend.tensorflow_backend import set_session\n",
    "config = tf.compat.v1.ConfigProto()\n",
    "config.gpu_options.per_process_gpu_memory_fraction = 0.8\n",
    "tf.compat.v1.Session(config=config)"
   ]
  },
  {
   "cell_type": "code",
   "execution_count": 38,
   "metadata": {},
   "outputs": [],
   "source": [
    "(train_images, train_labels), (test_images, test_labels) = tf.keras.datasets.mnist.load_data()\n",
    "\n",
    "train_labels = train_labels[:1000]\n",
    "test_labels = test_labels[:1000]\n",
    "\n",
    "train_images = train_images[:1000].reshape(-1, 28 * 28) / 255.0\n",
    "test_images = test_images[:1000].reshape(-1, 28 * 28) / 255.0"
   ]
  },
  {
   "cell_type": "code",
   "execution_count": 39,
   "metadata": {},
   "outputs": [],
   "source": [
    "(x_train, y_train), (x_test, y_test) = mnist.load_data()\n",
    "# convert class vectors to binary class matrices\n",
    "y_train = keras.utils.to_categorical(y_train, num_classes)\n",
    "y_test = keras.utils.to_categorical(y_test, num_classes)"
   ]
  },
  {
   "cell_type": "code",
   "execution_count": 40,
   "metadata": {},
   "outputs": [],
   "source": [
    "def model():\n",
    "    \n",
    "    inputs = Input(shape=(28,28,1))\n",
    "    x = Conv2D(24,kernel_size=(3,3),padding='same',activation=\"relu\")(inputs)\n",
    "    x = MaxPooling2D(pool_size=(2, 2))(x)\n",
    "    x = Conv2D(48, (3, 3), padding='same',activation='relu')(x)\n",
    "    x = MaxPooling2D(pool_size=(2, 2))(x)\n",
    "    x = Conv2D(64, (3, 3), padding='same',activation='relu')(x)\n",
    "    x = MaxPooling2D(pool_size=(2, 2))(x)\n",
    "    #x = Flatten()(x)\n",
    "    x = GlobalAveragePooling2D()(x)\n",
    "    x = Dense(128, activation='relu')(x)\n",
    "    x = Dropout(0.25)(x)\n",
    "    output = Dense(num_classes,activation=\"softmax\")(x)\n",
    "    \n",
    "    model = Model(inputs,output)\n",
    "    \n",
    "    model.compile(loss='categorical_crossentropy', \n",
    "              optimizer='adam', \n",
    "              metrics=['accuracy'])\n",
    "    \n",
    "    return model"
   ]
  },
  {
   "cell_type": "code",
   "execution_count": 41,
   "metadata": {},
   "outputs": [],
   "source": [
    "def model():\n",
    "    \n",
    "    inputs = Input(shape=(28,28,1))\n",
    "    x = Conv2D(64, (3,3), activation='relu')(inputs)\n",
    "    x = Conv2D(64, (3,3), activation='relu')(x)\n",
    "    x = GlobalAveragePooling2D()(x)\n",
    "    predictions = Dense(10, activation='softmax')(x)\n",
    "    output = Dense(num_classes,activation=\"softmax\")(x)\n",
    "    \n",
    "    model = Model(inputs,output)\n",
    "    \n",
    "    model.compile(loss='categorical_crossentropy', \n",
    "              optimizer='adam', \n",
    "              metrics=['accuracy'])\n",
    "    \n",
    "    return model"
   ]
  },
  {
   "cell_type": "code",
   "execution_count": 42,
   "metadata": {},
   "outputs": [
    {
     "name": "stdout",
     "output_type": "stream",
     "text": [
      "Model: \"model_7\"\n",
      "_________________________________________________________________\n",
      "Layer (type)                 Output Shape              Param #   \n",
      "=================================================================\n",
      "input_8 (InputLayer)         (None, 28, 28, 1)         0         \n",
      "_________________________________________________________________\n",
      "conv2d_18 (Conv2D)           (None, 26, 26, 64)        640       \n",
      "_________________________________________________________________\n",
      "conv2d_19 (Conv2D)           (None, 24, 24, 64)        36928     \n",
      "_________________________________________________________________\n",
      "global_average_pooling2d_8 ( (None, 64)                0         \n",
      "_________________________________________________________________\n",
      "dense_14 (Dense)             (None, 10)                650       \n",
      "=================================================================\n",
      "Total params: 38,218\n",
      "Trainable params: 38,218\n",
      "Non-trainable params: 0\n",
      "_________________________________________________________________\n"
     ]
    }
   ],
   "source": [
    "# 모델 객체를 만듭니다\n",
    "model = model()\n",
    "model.summary()"
   ]
  },
  {
   "cell_type": "code",
   "execution_count": 43,
   "metadata": {},
   "outputs": [],
   "source": [
    "model.compile(loss=keras.losses.categorical_crossentropy,\n",
    "              optimizer=keras.optimizers.Adadelta(),\n",
    "              metrics=['accuracy'])"
   ]
  },
  {
   "cell_type": "code",
   "execution_count": 44,
   "metadata": {},
   "outputs": [
    {
     "name": "stdout",
     "output_type": "stream",
     "text": [
      "Train on 60000 samples, validate on 10000 samples\n",
      "Epoch 1/100\n",
      "60000/60000 [==============================] - 2s 37us/step - loss: 6.2958 - accuracy: 0.0985 - val_loss: 5.2493 - val_accuracy: 0.0983\n",
      "Epoch 2/100\n",
      "60000/60000 [==============================] - 2s 36us/step - loss: 4.4779 - accuracy: 0.1003 - val_loss: 3.8036 - val_accuracy: 0.1078\n",
      "Epoch 3/100\n",
      "60000/60000 [==============================] - 2s 37us/step - loss: 3.3279 - accuracy: 0.1115 - val_loss: 2.9914 - val_accuracy: 0.1154\n",
      "Epoch 4/100\n",
      "60000/60000 [==============================] - 2s 37us/step - loss: 2.7602 - accuracy: 0.1121 - val_loss: 2.5535 - val_accuracy: 0.1073\n",
      "Epoch 5/100\n",
      "60000/60000 [==============================] - 2s 37us/step - loss: 2.3594 - accuracy: 0.1223 - val_loss: 2.2470 - val_accuracy: 0.1235\n",
      "Epoch 6/100\n",
      "60000/60000 [==============================] - 2s 37us/step - loss: 2.2202 - accuracy: 0.1507 - val_loss: 2.2066 - val_accuracy: 0.1631\n",
      "Epoch 7/100\n",
      "60000/60000 [==============================] - 2s 36us/step - loss: 2.1885 - accuracy: 0.1781 - val_loss: 2.1767 - val_accuracy: 0.1788\n",
      "Epoch 8/100\n",
      "60000/60000 [==============================] - 2s 37us/step - loss: 2.1599 - accuracy: 0.1960 - val_loss: 2.1501 - val_accuracy: 0.1921\n",
      "Epoch 9/100\n",
      "60000/60000 [==============================] - 2s 36us/step - loss: 2.1330 - accuracy: 0.2172 - val_loss: 2.1232 - val_accuracy: 0.2207\n",
      "Epoch 10/100\n",
      "60000/60000 [==============================] - 2s 36us/step - loss: 2.1079 - accuracy: 0.2405 - val_loss: 2.0995 - val_accuracy: 0.2349\n",
      "Epoch 11/100\n",
      "60000/60000 [==============================] - 2s 36us/step - loss: 2.0847 - accuracy: 0.2560 - val_loss: 2.0761 - val_accuracy: 0.2569\n",
      "Epoch 12/100\n",
      "60000/60000 [==============================] - 2s 37us/step - loss: 2.0627 - accuracy: 0.2726 - val_loss: 2.0546 - val_accuracy: 0.2753\n",
      "Epoch 13/100\n",
      "60000/60000 [==============================] - 2s 36us/step - loss: 2.0420 - accuracy: 0.2863 - val_loss: 2.0340 - val_accuracy: 0.2876\n",
      "Epoch 14/100\n",
      "60000/60000 [==============================] - 2s 37us/step - loss: 2.0223 - accuracy: 0.2989 - val_loss: 2.0146 - val_accuracy: 0.2971\n",
      "Epoch 15/100\n",
      "60000/60000 [==============================] - 2s 37us/step - loss: 2.0038 - accuracy: 0.3078 - val_loss: 1.9963 - val_accuracy: 0.3086\n",
      "Epoch 16/100\n",
      "60000/60000 [==============================] - 2s 37us/step - loss: 1.9862 - accuracy: 0.3171 - val_loss: 1.9790 - val_accuracy: 0.3174\n",
      "Epoch 17/100\n",
      "60000/60000 [==============================] - 2s 37us/step - loss: 1.9695 - accuracy: 0.3241 - val_loss: 1.9622 - val_accuracy: 0.3303\n",
      "Epoch 18/100\n",
      "60000/60000 [==============================] - 2s 38us/step - loss: 1.9536 - accuracy: 0.3328 - val_loss: 1.9462 - val_accuracy: 0.3317\n",
      "Epoch 19/100\n",
      "60000/60000 [==============================] - 2s 38us/step - loss: 1.9382 - accuracy: 0.3370 - val_loss: 1.9308 - val_accuracy: 0.3407\n",
      "Epoch 20/100\n",
      "60000/60000 [==============================] - 2s 37us/step - loss: 1.9234 - accuracy: 0.3456 - val_loss: 1.9159 - val_accuracy: 0.3444\n",
      "Epoch 21/100\n",
      "60000/60000 [==============================] - 2s 38us/step - loss: 1.9092 - accuracy: 0.3506 - val_loss: 1.9018 - val_accuracy: 0.3535\n",
      "Epoch 22/100\n",
      "60000/60000 [==============================] - 2s 37us/step - loss: 1.8957 - accuracy: 0.3563 - val_loss: 1.8883 - val_accuracy: 0.3590\n",
      "Epoch 23/100\n",
      "60000/60000 [==============================] - 2s 37us/step - loss: 1.8827 - accuracy: 0.3620 - val_loss: 1.8754 - val_accuracy: 0.3540\n",
      "Epoch 24/100\n",
      "60000/60000 [==============================] - 2s 37us/step - loss: 1.8702 - accuracy: 0.3667 - val_loss: 1.8631 - val_accuracy: 0.3681\n",
      "Epoch 25/100\n",
      "60000/60000 [==============================] - 2s 37us/step - loss: 1.8582 - accuracy: 0.3717 - val_loss: 1.8501 - val_accuracy: 0.3799\n",
      "Epoch 26/100\n",
      "60000/60000 [==============================] - 2s 36us/step - loss: 1.8466 - accuracy: 0.3788 - val_loss: 1.8386 - val_accuracy: 0.3787\n",
      "Epoch 27/100\n",
      "60000/60000 [==============================] - 2s 37us/step - loss: 1.8353 - accuracy: 0.3851 - val_loss: 1.8283 - val_accuracy: 0.3709\n",
      "Epoch 28/100\n",
      "60000/60000 [==============================] - 2s 37us/step - loss: 1.8244 - accuracy: 0.3863 - val_loss: 1.8158 - val_accuracy: 0.3949\n",
      "Epoch 29/100\n",
      "60000/60000 [==============================] - 2s 37us/step - loss: 1.8138 - accuracy: 0.3944 - val_loss: 1.8054 - val_accuracy: 0.4011\n",
      "Epoch 30/100\n",
      "60000/60000 [==============================] - 2s 37us/step - loss: 1.8034 - accuracy: 0.4021 - val_loss: 1.7953 - val_accuracy: 0.3961\n",
      "Epoch 31/100\n",
      "60000/60000 [==============================] - 2s 37us/step - loss: 1.7935 - accuracy: 0.4051 - val_loss: 1.7849 - val_accuracy: 0.4012\n",
      "Epoch 32/100\n",
      "60000/60000 [==============================] - 2s 37us/step - loss: 1.7838 - accuracy: 0.4103 - val_loss: 1.7751 - val_accuracy: 0.4155\n",
      "Epoch 33/100\n",
      "60000/60000 [==============================] - 2s 37us/step - loss: 1.7744 - accuracy: 0.4148 - val_loss: 1.7649 - val_accuracy: 0.4254\n",
      "Epoch 34/100\n",
      "60000/60000 [==============================] - 2s 37us/step - loss: 1.7651 - accuracy: 0.4216 - val_loss: 1.7557 - val_accuracy: 0.4172\n",
      "Epoch 35/100\n",
      "60000/60000 [==============================] - 2s 37us/step - loss: 1.7561 - accuracy: 0.4253 - val_loss: 1.7466 - val_accuracy: 0.4230\n",
      "Epoch 36/100\n",
      "60000/60000 [==============================] - 2s 36us/step - loss: 1.7474 - accuracy: 0.4302 - val_loss: 1.7373 - val_accuracy: 0.4388\n",
      "Epoch 37/100\n",
      "60000/60000 [==============================] - 2s 37us/step - loss: 1.7388 - accuracy: 0.4364 - val_loss: 1.7289 - val_accuracy: 0.4372\n",
      "Epoch 38/100\n",
      "60000/60000 [==============================] - 2s 36us/step - loss: 1.7305 - accuracy: 0.4393 - val_loss: 1.7205 - val_accuracy: 0.4511\n",
      "Epoch 39/100\n",
      "60000/60000 [==============================] - 2s 37us/step - loss: 1.7223 - accuracy: 0.4452 - val_loss: 1.7119 - val_accuracy: 0.4518\n",
      "Epoch 40/100\n",
      "60000/60000 [==============================] - 2s 36us/step - loss: 1.7142 - accuracy: 0.4484 - val_loss: 1.7034 - val_accuracy: 0.4582\n",
      "Epoch 41/100\n",
      "60000/60000 [==============================] - 2s 36us/step - loss: 1.7064 - accuracy: 0.4536 - val_loss: 1.6950 - val_accuracy: 0.4582\n",
      "Epoch 42/100\n",
      "60000/60000 [==============================] - 2s 36us/step - loss: 1.6987 - accuracy: 0.4580 - val_loss: 1.6873 - val_accuracy: 0.4642\n",
      "Epoch 43/100\n",
      "60000/60000 [==============================] - 2s 36us/step - loss: 1.6911 - accuracy: 0.4592 - val_loss: 1.6794 - val_accuracy: 0.4699\n",
      "Epoch 44/100\n",
      "60000/60000 [==============================] - 2s 36us/step - loss: 1.6839 - accuracy: 0.4638 - val_loss: 1.6723 - val_accuracy: 0.4720\n",
      "Epoch 45/100\n",
      "60000/60000 [==============================] - 2s 36us/step - loss: 1.6767 - accuracy: 0.4683 - val_loss: 1.6647 - val_accuracy: 0.4794\n",
      "Epoch 46/100\n",
      "60000/60000 [==============================] - 2s 37us/step - loss: 1.6697 - accuracy: 0.4711 - val_loss: 1.6576 - val_accuracy: 0.4862\n",
      "Epoch 47/100\n",
      "60000/60000 [==============================] - 2s 37us/step - loss: 1.6629 - accuracy: 0.4749 - val_loss: 1.6502 - val_accuracy: 0.4893\n",
      "Epoch 48/100\n",
      "60000/60000 [==============================] - 2s 37us/step - loss: 1.6561 - accuracy: 0.4808 - val_loss: 1.6431 - val_accuracy: 0.4834\n",
      "Epoch 49/100\n",
      "60000/60000 [==============================] - 2s 36us/step - loss: 1.6494 - accuracy: 0.4803 - val_loss: 1.6365 - val_accuracy: 0.4942\n",
      "Epoch 50/100\n",
      "60000/60000 [==============================] - 2s 37us/step - loss: 1.6429 - accuracy: 0.4853 - val_loss: 1.6294 - val_accuracy: 0.4963\n",
      "Epoch 51/100\n",
      "60000/60000 [==============================] - 2s 37us/step - loss: 1.6365 - accuracy: 0.4885 - val_loss: 1.6227 - val_accuracy: 0.5006\n",
      "Epoch 52/100\n",
      "60000/60000 [==============================] - 2s 37us/step - loss: 1.6300 - accuracy: 0.4929 - val_loss: 1.6160 - val_accuracy: 0.5043\n",
      "Epoch 53/100\n",
      "60000/60000 [==============================] - 2s 36us/step - loss: 1.6237 - accuracy: 0.4947 - val_loss: 1.6095 - val_accuracy: 0.5085\n",
      "Epoch 54/100\n",
      "60000/60000 [==============================] - 2s 37us/step - loss: 1.6175 - accuracy: 0.4983 - val_loss: 1.6032 - val_accuracy: 0.5118\n",
      "Epoch 55/100\n",
      "60000/60000 [==============================] - 2s 37us/step - loss: 1.6114 - accuracy: 0.5019 - val_loss: 1.5969 - val_accuracy: 0.5142\n"
     ]
    },
    {
     "name": "stdout",
     "output_type": "stream",
     "text": [
      "Epoch 56/100\n",
      "60000/60000 [==============================] - 2s 37us/step - loss: 1.6054 - accuracy: 0.5026 - val_loss: 1.5912 - val_accuracy: 0.5199\n",
      "Epoch 57/100\n",
      "60000/60000 [==============================] - 2s 37us/step - loss: 1.5996 - accuracy: 0.5069 - val_loss: 1.5852 - val_accuracy: 0.5164\n",
      "Epoch 58/100\n",
      "60000/60000 [==============================] - 2s 38us/step - loss: 1.5938 - accuracy: 0.5085 - val_loss: 1.5787 - val_accuracy: 0.5225\n",
      "Epoch 59/100\n",
      "60000/60000 [==============================] - 2s 37us/step - loss: 1.5881 - accuracy: 0.5115 - val_loss: 1.5726 - val_accuracy: 0.5265\n",
      "Epoch 60/100\n",
      "60000/60000 [==============================] - 2s 37us/step - loss: 1.5824 - accuracy: 0.5139 - val_loss: 1.5670 - val_accuracy: 0.5292\n",
      "Epoch 61/100\n",
      "60000/60000 [==============================] - 2s 37us/step - loss: 1.5767 - accuracy: 0.5177 - val_loss: 1.5609 - val_accuracy: 0.5321\n",
      "Epoch 62/100\n",
      "60000/60000 [==============================] - 2s 37us/step - loss: 1.5712 - accuracy: 0.5179 - val_loss: 1.5556 - val_accuracy: 0.5285\n",
      "Epoch 63/100\n",
      "60000/60000 [==============================] - 2s 37us/step - loss: 1.5657 - accuracy: 0.5205 - val_loss: 1.5494 - val_accuracy: 0.5362\n",
      "Epoch 64/100\n",
      "60000/60000 [==============================] - 2s 37us/step - loss: 1.5603 - accuracy: 0.5222 - val_loss: 1.5438 - val_accuracy: 0.5406\n",
      "Epoch 65/100\n",
      "60000/60000 [==============================] - 2s 38us/step - loss: 1.5549 - accuracy: 0.5250 - val_loss: 1.5386 - val_accuracy: 0.5328\n",
      "Epoch 66/100\n",
      "60000/60000 [==============================] - 2s 38us/step - loss: 1.5497 - accuracy: 0.5263 - val_loss: 1.5327 - val_accuracy: 0.5431\n",
      "Epoch 67/100\n",
      "60000/60000 [==============================] - 2s 38us/step - loss: 1.5445 - accuracy: 0.5298 - val_loss: 1.5276 - val_accuracy: 0.5415\n",
      "Epoch 68/100\n",
      "60000/60000 [==============================] - 2s 38us/step - loss: 1.5394 - accuracy: 0.5311 - val_loss: 1.5220 - val_accuracy: 0.5449\n",
      "Epoch 69/100\n",
      "60000/60000 [==============================] - 2s 38us/step - loss: 1.5343 - accuracy: 0.5323 - val_loss: 1.5174 - val_accuracy: 0.5450\n",
      "Epoch 70/100\n",
      "60000/60000 [==============================] - 2s 38us/step - loss: 1.5293 - accuracy: 0.5348 - val_loss: 1.5115 - val_accuracy: 0.5515\n",
      "Epoch 71/100\n",
      "60000/60000 [==============================] - 2s 37us/step - loss: 1.5243 - accuracy: 0.5368 - val_loss: 1.5063 - val_accuracy: 0.5521\n",
      "Epoch 72/100\n",
      "60000/60000 [==============================] - 2s 39us/step - loss: 1.5194 - accuracy: 0.5385 - val_loss: 1.5012 - val_accuracy: 0.5564\n",
      "Epoch 73/100\n",
      "60000/60000 [==============================] - 2s 39us/step - loss: 1.5145 - accuracy: 0.5410 - val_loss: 1.4968 - val_accuracy: 0.5504\n",
      "Epoch 74/100\n",
      "60000/60000 [==============================] - 2s 39us/step - loss: 1.5097 - accuracy: 0.5422 - val_loss: 1.4910 - val_accuracy: 0.5554\n",
      "Epoch 75/100\n",
      "60000/60000 [==============================] - 2s 39us/step - loss: 1.5049 - accuracy: 0.5448 - val_loss: 1.4861 - val_accuracy: 0.5566\n",
      "Epoch 76/100\n",
      "60000/60000 [==============================] - 2s 38us/step - loss: 1.5001 - accuracy: 0.5461 - val_loss: 1.4809 - val_accuracy: 0.5618\n",
      "Epoch 77/100\n",
      "60000/60000 [==============================] - 2s 38us/step - loss: 1.4956 - accuracy: 0.5475 - val_loss: 1.4765 - val_accuracy: 0.5621\n",
      "Epoch 78/100\n",
      "60000/60000 [==============================] - 2s 38us/step - loss: 1.4909 - accuracy: 0.5496 - val_loss: 1.4714 - val_accuracy: 0.5621\n",
      "Epoch 79/100\n",
      "60000/60000 [==============================] - 2s 38us/step - loss: 1.4863 - accuracy: 0.5513 - val_loss: 1.4666 - val_accuracy: 0.5659\n",
      "Epoch 80/100\n",
      "60000/60000 [==============================] - 2s 38us/step - loss: 1.4818 - accuracy: 0.5527 - val_loss: 1.4621 - val_accuracy: 0.5690\n",
      "Epoch 81/100\n",
      "60000/60000 [==============================] - 2s 38us/step - loss: 1.4774 - accuracy: 0.5549 - val_loss: 1.4576 - val_accuracy: 0.5669\n",
      "Epoch 82/100\n",
      "60000/60000 [==============================] - 2s 37us/step - loss: 1.4729 - accuracy: 0.5556 - val_loss: 1.4527 - val_accuracy: 0.5720\n",
      "Epoch 83/100\n",
      "60000/60000 [==============================] - 2s 38us/step - loss: 1.4685 - accuracy: 0.5579 - val_loss: 1.4480 - val_accuracy: 0.5697\n",
      "Epoch 84/100\n",
      "60000/60000 [==============================] - 2s 37us/step - loss: 1.4641 - accuracy: 0.5596 - val_loss: 1.4438 - val_accuracy: 0.5702\n",
      "Epoch 85/100\n",
      "60000/60000 [==============================] - 2s 38us/step - loss: 1.4598 - accuracy: 0.5609 - val_loss: 1.4390 - val_accuracy: 0.5759\n",
      "Epoch 86/100\n",
      "60000/60000 [==============================] - 2s 39us/step - loss: 1.4555 - accuracy: 0.5628 - val_loss: 1.4347 - val_accuracy: 0.5758\n",
      "Epoch 87/100\n",
      "60000/60000 [==============================] - 2s 38us/step - loss: 1.4514 - accuracy: 0.5637 - val_loss: 1.4310 - val_accuracy: 0.5745\n",
      "Epoch 88/100\n",
      "60000/60000 [==============================] - 2s 38us/step - loss: 1.4473 - accuracy: 0.5655 - val_loss: 1.4259 - val_accuracy: 0.5781\n",
      "Epoch 89/100\n",
      "60000/60000 [==============================] - 2s 38us/step - loss: 1.4431 - accuracy: 0.5667 - val_loss: 1.4226 - val_accuracy: 0.5738\n",
      "Epoch 90/100\n",
      "60000/60000 [==============================] - 2s 39us/step - loss: 1.4391 - accuracy: 0.5676 - val_loss: 1.4175 - val_accuracy: 0.5815\n",
      "Epoch 91/100\n",
      "60000/60000 [==============================] - 2s 40us/step - loss: 1.4349 - accuracy: 0.5692 - val_loss: 1.4138 - val_accuracy: 0.5820\n",
      "Epoch 92/100\n",
      "60000/60000 [==============================] - 2s 40us/step - loss: 1.4309 - accuracy: 0.5708 - val_loss: 1.4097 - val_accuracy: 0.5826\n",
      "Epoch 93/100\n",
      "60000/60000 [==============================] - 2s 39us/step - loss: 1.4270 - accuracy: 0.5724 - val_loss: 1.4056 - val_accuracy: 0.5839\n",
      "Epoch 94/100\n",
      "60000/60000 [==============================] - 2s 41us/step - loss: 1.4231 - accuracy: 0.5731 - val_loss: 1.4014 - val_accuracy: 0.5846\n",
      "Epoch 95/100\n",
      "60000/60000 [==============================] - 2s 40us/step - loss: 1.4193 - accuracy: 0.5755 - val_loss: 1.3969 - val_accuracy: 0.5894\n",
      "Epoch 96/100\n",
      "60000/60000 [==============================] - 2s 40us/step - loss: 1.4154 - accuracy: 0.5772 - val_loss: 1.3934 - val_accuracy: 0.5845\n",
      "Epoch 97/100\n",
      "60000/60000 [==============================] - 2s 39us/step - loss: 1.4115 - accuracy: 0.5777 - val_loss: 1.3895 - val_accuracy: 0.5917\n",
      "Epoch 98/100\n",
      "60000/60000 [==============================] - 2s 39us/step - loss: 1.4078 - accuracy: 0.5793 - val_loss: 1.3855 - val_accuracy: 0.5933\n",
      "Epoch 99/100\n",
      "60000/60000 [==============================] - 2s 39us/step - loss: 1.4041 - accuracy: 0.5803 - val_loss: 1.3813 - val_accuracy: 0.5920\n",
      "Epoch 100/100\n",
      "60000/60000 [==============================] - 2s 39us/step - loss: 1.4004 - accuracy: 0.5817 - val_loss: 1.3778 - val_accuracy: 0.5944\n",
      "Test loss: 1.3777655292510986\n",
      "Test accuracy: 0.5943999886512756\n"
     ]
    }
   ],
   "source": [
    "if K.image_data_format() == 'channels_first':\n",
    "    x_train = x_train.reshape(x_train.shape[0], 1, img_rows, img_cols)\n",
    "    x_test = x_test.reshape(x_test.shape[0], 1, img_rows, img_cols)\n",
    "    input_shape = (1, img_rows, img_cols)\n",
    "else:\n",
    "    x_train = x_train.reshape(x_train.shape[0], img_rows, img_cols, 1)\n",
    "    x_test = x_test.reshape(x_test.shape[0], img_rows, img_cols, 1)\n",
    "    input_shape = (img_rows, img_cols, 1)\n",
    "\n",
    "\n",
    "model.fit(x_train, y_train,\n",
    "          batch_size=batch_size,\n",
    "          epochs=100,\n",
    "          verbose=1,\n",
    "          validation_data=(x_test, y_test))\n",
    "score = model.evaluate(x_test, y_test, verbose=0)\n",
    "print('Test loss:', score[0])\n",
    "print('Test accuracy:', score[1])"
   ]
  },
  {
   "cell_type": "code",
   "execution_count": 45,
   "metadata": {},
   "outputs": [
    {
     "name": "stderr",
     "output_type": "stream",
     "text": [
      "/home/jake/venv/lib/python3.7/site-packages/keras/engine/saving.py:165: UserWarning: TensorFlow optimizers do not make it possible to access optimizer attributes or optimizer state after instantiation. As a result, we cannot save the optimizer as part of the model save file.You will have to compile your model again after loading it. Prefer using a Keras optimizer instead (see keras.io/optimizers).\n",
      "  'TensorFlow optimizers do not '\n"
     ]
    }
   ],
   "source": [
    "model.save('../models/mnist_cam.h5')"
   ]
  },
  {
   "cell_type": "code",
   "execution_count": null,
   "metadata": {},
   "outputs": [],
   "source": []
  }
 ],
 "metadata": {
  "kernelspec": {
   "display_name": "Python 3",
   "language": "python",
   "name": "python3"
  },
  "language_info": {
   "codemirror_mode": {
    "name": "ipython",
    "version": 3
   },
   "file_extension": ".py",
   "mimetype": "text/x-python",
   "name": "python",
   "nbconvert_exporter": "python",
   "pygments_lexer": "ipython3",
   "version": "3.7.3"
  }
 },
 "nbformat": 4,
 "nbformat_minor": 2
}
