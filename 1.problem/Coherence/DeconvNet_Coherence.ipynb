{
 "cells": [
  {
   "cell_type": "code",
   "execution_count": 1,
   "metadata": {},
   "outputs": [],
   "source": [
    "import os\n",
    "import cv2\n",
    "import random\n",
    "import numpy as np\n",
    "import matplotlib.pyplot as plt"
   ]
  },
  {
   "cell_type": "code",
   "execution_count": 24,
   "metadata": {},
   "outputs": [
    {
     "ename": "ModuleNotFoundError",
     "evalue": "No module named 'tensorflow.saliency'",
     "output_type": "error",
     "traceback": [
      "\u001b[0;31m---------------------------------------------------------------------------\u001b[0m",
      "\u001b[0;31mModuleNotFoundError\u001b[0m                       Traceback (most recent call last)",
      "\u001b[0;32m<ipython-input-24-61d498e4f293>\u001b[0m in \u001b[0;36m<module>\u001b[0;34m\u001b[0m\n\u001b[0;32m----> 1\u001b[0;31m \u001b[0;32mfrom\u001b[0m \u001b[0mtensorflow\u001b[0m\u001b[0;34m.\u001b[0m\u001b[0msaliency\u001b[0m\u001b[0;34m.\u001b[0m\u001b[0mattribution_methods\u001b[0m \u001b[0;32mimport\u001b[0m \u001b[0mVanillaBackprop\u001b[0m\u001b[0;34m\u001b[0m\u001b[0;34m\u001b[0m\u001b[0m\n\u001b[0m",
      "\u001b[0;31mModuleNotFoundError\u001b[0m: No module named 'tensorflow.saliency'"
     ]
    }
   ],
   "source": [
    "from tensorflow.saliency.attribution_methods import VanillaBackprop"
   ]
  },
  {
   "cell_type": "code",
   "execution_count": 2,
   "metadata": {},
   "outputs": [
    {
     "name": "stderr",
     "output_type": "stream",
     "text": [
      "Using TensorFlow backend.\n"
     ]
    }
   ],
   "source": [
    "from keras.applications.vgg16 import (\n",
    "    VGG16, preprocess_input, decode_predictions)\n",
    "from keras.preprocessing import image\n",
    "from keras.layers.core import Lambda\n",
    "from keras.models import Sequential\n",
    "from tensorflow.python.framework import ops\n",
    "import keras.backend as K\n",
    "import tensorflow as tf\n",
    "import numpy as np\n",
    "import keras\n",
    "import sys\n",
    "import cv2"
   ]
  },
  {
   "cell_type": "code",
   "execution_count": 3,
   "metadata": {},
   "outputs": [],
   "source": [
    "import keras\n",
    "import tensorflow as tf"
   ]
  },
  {
   "cell_type": "code",
   "execution_count": 4,
   "metadata": {},
   "outputs": [],
   "source": [
    "from keras.datasets import mnist\n",
    "\n",
    "(x_train, y_train), (x_test, y_test) = mnist.load_data()"
   ]
  },
  {
   "cell_type": "code",
   "execution_count": 5,
   "metadata": {},
   "outputs": [],
   "source": [
    "label_list = [i for i in range(10)]"
   ]
  },
  {
   "cell_type": "code",
   "execution_count": 6,
   "metadata": {},
   "outputs": [
    {
     "data": {
      "text/plain": [
       "<tensorflow.python.client.session.Session at 0x7f521a7ee860>"
      ]
     },
     "execution_count": 6,
     "metadata": {},
     "output_type": "execute_result"
    }
   ],
   "source": [
    "os.environ[\"CUDA_VISIBLE_DEVICES\"]=\"0\";  \n",
    "from keras.backend.tensorflow_backend import set_session\n",
    "config = tf.compat.v1.ConfigProto()\n",
    "config.gpu_options.per_process_gpu_memory_fraction = 0.8\n",
    "tf.compat.v1.Session(config=config)"
   ]
  },
  {
   "cell_type": "code",
   "execution_count": 7,
   "metadata": {},
   "outputs": [
    {
     "data": {
      "image/png": "[encoded data removed]",
      "text/plain": [
       "<Figure size 1440x1440 with 10 Axes>"
      ]
     },
     "metadata": {
      "needs_background": "light"
     },
     "output_type": "display_data"
    }
   ],
   "source": [
    "plt.figure(figsize=(20, 20))\n",
    "for i in range(10):\n",
    "    plt.subplot(1,10,i+1)\n",
    "    coord = np.where(y_train.flatten() == i)[0][0]\n",
    "    plt.imshow(x_train[coord])\n",
    "    plt.title(label_list[y_train[coord]])\n",
    "\n",
    "plt.show()"
   ]
  },
  {
   "cell_type": "code",
   "execution_count": 8,
   "metadata": {},
   "outputs": [
    {
     "name": "stderr",
     "output_type": "stream",
     "text": [
      "/home/jake/venv/lib/python3.7/site-packages/keras/engine/saving.py:341: UserWarning: No training configuration found in save file: the model was *not* compiled. Compile it manually.\n",
      "  warnings.warn('No training configuration found in save file: '\n"
     ]
    }
   ],
   "source": [
    "model = keras.models.load_model('./models/mnist_gradcam.h5')"
   ]
  },
  {
   "cell_type": "code",
   "execution_count": 10,
   "metadata": {},
   "outputs": [
    {
     "name": "stdout",
     "output_type": "stream",
     "text": [
      "Model: \"model_6\"\n",
      "_________________________________________________________________\n",
      "Layer (type)                 Output Shape              Param #   \n",
      "=================================================================\n",
      "input_8 (InputLayer)         (None, 28, 28, 1)         0         \n",
      "_________________________________________________________________\n",
      "conv2d_31 (Conv2D)           (None, 28, 28, 24)        240       \n",
      "_________________________________________________________________\n",
      "max_pooling2d_26 (MaxPooling (None, 14, 14, 24)        0         \n",
      "_________________________________________________________________\n",
      "conv2d_32 (Conv2D)           (None, 14, 14, 48)        10416     \n",
      "_________________________________________________________________\n",
      "max_pooling2d_27 (MaxPooling (None, 7, 7, 48)          0         \n",
      "_________________________________________________________________\n",
      "conv2d_33 (Conv2D)           (None, 7, 7, 64)          27712     \n",
      "_________________________________________________________________\n",
      "max_pooling2d_28 (MaxPooling (None, 3, 3, 64)          0         \n",
      "_________________________________________________________________\n",
      "flatten_12 (Flatten)         (None, 576)               0         \n",
      "_________________________________________________________________\n",
      "dense_18 (Dense)             (None, 128)               73856     \n",
      "_________________________________________________________________\n",
      "dropout_14 (Dropout)         (None, 128)               0         \n",
      "_________________________________________________________________\n",
      "dense_19 (Dense)             (None, 10)                1290      \n",
      "=================================================================\n",
      "Total params: 113,514\n",
      "Trainable params: 113,514\n",
      "Non-trainable params: 0\n",
      "_________________________________________________________________\n"
     ]
    }
   ],
   "source": [
    "model.summary()"
   ]
  },
  {
   "cell_type": "code",
   "execution_count": 11,
   "metadata": {},
   "outputs": [],
   "source": [
    "class VisConvolution:\n",
    "    def __init__(self, model, model_func, activation_layer, method='GuidedBackProp'):\n",
    "        self.model = model\n",
    "        self.model_func = model_func\n",
    "        self.activation_layer = activation_layer\n",
    "\n",
    "        if method == 'BackProp':\n",
    "            self._register_backprop_gradient()\n",
    "            self.guided_model = self._modify_graph('BackProp')\n",
    "        elif method == 'DeconvNet':\n",
    "            self._register_deconvnet_gradient()\n",
    "            self.guided_model = self._modify_graph('DeconvNet')\n",
    "        elif method == 'GuidedBackProp':\n",
    "            self._register_guidedbackprop_gradient()\n",
    "            self.guided_model = self._modify_graph('GuidedBackProp')\n",
    "        else:\n",
    "            sys.exit('method must be (BackProp, DeconvNet, GuidedBackProp)')\n",
    "\n",
    "        self.tensor_function = self.get_tensor_function()\n",
    "\n",
    "    # register gradient\n",
    "    def _register_backprop_gradient(self):\n",
    "        if \"BackProp\" not in ops._gradient_registry._registry:\n",
    "            @ops.RegisterGradient(\"BackProp\")\n",
    "            def _BackProp(op, grad):\n",
    "                dtype = op.inputs[0].dtype\n",
    "                return grad * tf.cast(op.inputs[0] > 0., dtype)\n",
    "\n",
    "    def _register_deconvnet_gradient(self):\n",
    "        if \"DeconvNet\" not in ops._gradient_registry._registry:\n",
    "            @ops.RegisterGradient(\"DeconvNet\")\n",
    "            def _DeconvNet(op, grad):\n",
    "                dtype = op.inputs[0].dtype\n",
    "                return grad * tf.cast(grad > 0., dtype)\n",
    "\n",
    "    def _register_guidedbackprop_gradient(self):\n",
    "        if \"GuidedBackProp\" not in ops._gradient_registry._registry:\n",
    "            @ops.RegisterGradient(\"GuidedBackProp\")\n",
    "            def _GuidedBackProp(op, grad):\n",
    "                dtype = op.inputs[0].dtype\n",
    "                return grad * tf.cast(grad > 0., dtype) * \\\n",
    "                       tf.cast(op.inputs[0] > 0., dtype)\n",
    "\n",
    "    # modify model graph\n",
    "    def _modify_graph(self, name):\n",
    "        g = tf.get_default_graph()\n",
    "        with g.gradient_override_map({'Relu': name}):\n",
    "\n",
    "            # get layers that have an activation\n",
    "            layer_dict = [layer for layer in self.model.layers[1:]\n",
    "                          if hasattr(layer, 'activation')]\n",
    "\n",
    "            # replace relu activation\n",
    "            for layer in layer_dict:\n",
    "                if layer.activation == keras.activations.relu:\n",
    "                    layer.activation = tf.nn.relu\n",
    "\n",
    "            # re-instanciate a new model\n",
    "            K.reset_uids()\n",
    "            new_model = self.model_func(weights='imagenet')\n",
    "        return new_model\n",
    "\n",
    "    # get partial tensor graph of CNN model\n",
    "    def get_tensor_function(self, method='max', channel=0):\n",
    "        model_input = self.guided_model.input\n",
    "        layer_output = self.guided_model.get_layer(self.activation_layer).output\n",
    "\n",
    "        if method == 'max':\n",
    "            output = K.max(layer_output, axis=3)\n",
    "        elif method == 'one':\n",
    "            output = layer_output[:, :, :, channel]\n",
    "        else:\n",
    "            sys.exit('method must be (max, one)')\n",
    "\n",
    "        tensor_function = K.function([model_input], [K.gradients(output, model_input)[0]])\n",
    "        return tensor_function\n",
    "\n",
    "    # generate saliency map(gradient)\n",
    "    def generate(self, input_tensor):\n",
    "        saliency = self.tensor_function([input_tensor])\n",
    "\n",
    "        return saliency[0]\n"
   ]
  },
  {
   "cell_type": "code",
   "execution_count": 19,
   "metadata": {},
   "outputs": [],
   "source": [
    "def _DeconvNet(model, activation_layer):\n",
    "    dtype = op.inputs[0].dtype\n",
    "    return grad * tf.cast(grad > 0., dtype)"
   ]
  },
  {
   "cell_type": "code",
   "execution_count": 14,
   "metadata": {},
   "outputs": [],
   "source": [
    "activation_layer = 'conv2d_33'\n",
    "img = x_test[0]\n",
    "img_tensor = img[np.newaxis,...,np.newaxis]/255.\n",
    "\n",
    "preds = model.predict(img_tensor)\n",
    "predicted_class = preds.argmax(axis=1)[0]"
   ]
  },
  {
   "cell_type": "code",
   "execution_count": 18,
   "metadata": {},
   "outputs": [
    {
     "name": "stdout",
     "output_type": "stream",
     "text": [
      "preidicted top1 class: 7\n"
     ]
    }
   ],
   "source": [
    "print(\"preidicted top1 class:\", predicted_class)\n",
    "#print(\"predicted:\", decode_predictions(preds,top=1)[0])"
   ]
  },
  {
   "cell_type": "code",
   "execution_count": null,
   "metadata": {},
   "outputs": [],
   "source": [
    "vis_conv = VisConvolution(model,)"
   ]
  }
 ],
 "metadata": {
  "kernelspec": {
   "display_name": "Python 3",
   "language": "python",
   "name": "python3"
  },
  "language_info": {
   "codemirror_mode": {
    "name": "ipython",
    "version": 3
   },
   "file_extension": ".py",
   "mimetype": "text/x-python",
   "name": "python",
   "nbconvert_exporter": "python",
   "pygments_lexer": "ipython3",
   "version": "3.7.3"
  }
 },
 "nbformat": 4,
 "nbformat_minor": 2
}
