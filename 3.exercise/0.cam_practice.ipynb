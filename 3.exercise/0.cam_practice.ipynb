{
 "cells": [
  {
   "cell_type": "markdown",
   "metadata": {},
   "source": [
    "# https://bob3rdnewbie.tistory.com/320"
   ]
  },
  {
   "cell_type": "code",
   "execution_count": 43,
   "metadata": {},
   "outputs": [],
   "source": [
    "import torch\n",
    "import torch.nn as nn\n",
    "import torch.nn.functional as F\n",
    "import PIL\n",
    "import matplotlib.pyplot as plt"
   ]
  },
  {
   "cell_type": "code",
   "execution_count": 2,
   "metadata": {},
   "outputs": [],
   "source": [
    "class CNN_mnist(nn.Module):\n",
    "    \"\"\"\n",
    "    Simple CNN NETWORK\n",
    "    \"\"\"\n",
    "\n",
    "    def __init__(self):\n",
    "        super(CNN_mnist, self).__init__()\n",
    "        self.conv = nn.Sequential(\n",
    "            # 3 x 128 x 128\n",
    "            nn.Conv2d(1, 32, 3, 1, 1),\n",
    "            nn.BatchNorm2d(32),\n",
    "            nn.LeakyReLU(0.2),\n",
    "\n",
    "            # 32 x 128 x 128\n",
    "            nn.Conv2d(32, 64, 3, 1, 1),\n",
    "            nn.BatchNorm2d(64),\n",
    "            nn.LeakyReLU(0.2),\n",
    "\n",
    "            # 64 x 128 x 128\n",
    "            nn.MaxPool2d(2, 2),\n",
    "\n",
    "            # 64 x 64 x 64\n",
    "            nn.Conv2d(64, 128, 3, 1, 1),\n",
    "            nn.BatchNorm2d(128),\n",
    "            nn.LeakyReLU(0.2),\n",
    "\n",
    "            # 128 x 64 x 64\n",
    "            nn.Conv2d(128, 256, 3, 1, 1),\n",
    "            nn.BatchNorm2d(256),\n",
    "            nn.LeakyReLU(0.2),\n",
    "\n",
    "            # 256 x 64 x 64\n",
    "            nn.MaxPool2d(2, 2),\n",
    "\n",
    "            # 256 x 32 x 32\n",
    "            nn.Conv2d(256, 10, 3, 1, 1),\n",
    "            nn.BatchNorm2d(10),\n",
    "            nn.LeakyReLU(0.2)\n",
    "        )\n",
    "\n",
    "        # 256 x 32 x 32\n",
    "        self.avg_pool = nn.AvgPool2d(7)\n",
    "        # 256 x 1 x 1\n",
    "        self.classifier = nn.Linear(10, 10)\n",
    "        self.name='CNN_mnist'\n",
    "\n",
    "    def forward(self, x):\n",
    "        features = self.conv(x)\n",
    "        flatten = self.avg_pool(features).view(features.size(0), -1)\n",
    "        output = self.classifier(flatten)\n",
    "        return output, features\n"
   ]
  },
  {
   "cell_type": "code",
   "execution_count": 3,
   "metadata": {},
   "outputs": [
    {
     "name": "stdout",
     "output_type": "stream",
     "text": [
      "CNN_mnist(\n",
      "  (conv): Sequential(\n",
      "    (0): Conv2d(1, 32, kernel_size=(3, 3), stride=(1, 1), padding=(1, 1))\n",
      "    (1): BatchNorm2d(32, eps=1e-05, momentum=0.1, affine=True, track_running_stats=True)\n",
      "    (2): LeakyReLU(negative_slope=0.2)\n",
      "    (3): Conv2d(32, 64, kernel_size=(3, 3), stride=(1, 1), padding=(1, 1))\n",
      "    (4): BatchNorm2d(64, eps=1e-05, momentum=0.1, affine=True, track_running_stats=True)\n",
      "    (5): LeakyReLU(negative_slope=0.2)\n",
      "    (6): MaxPool2d(kernel_size=2, stride=2, padding=0, dilation=1, ceil_mode=False)\n",
      "    (7): Conv2d(64, 128, kernel_size=(3, 3), stride=(1, 1), padding=(1, 1))\n",
      "    (8): BatchNorm2d(128, eps=1e-05, momentum=0.1, affine=True, track_running_stats=True)\n",
      "    (9): LeakyReLU(negative_slope=0.2)\n",
      "    (10): Conv2d(128, 256, kernel_size=(3, 3), stride=(1, 1), padding=(1, 1))\n",
      "    (11): BatchNorm2d(256, eps=1e-05, momentum=0.1, affine=True, track_running_stats=True)\n",
      "    (12): LeakyReLU(negative_slope=0.2)\n",
      "    (13): MaxPool2d(kernel_size=2, stride=2, padding=0, dilation=1, ceil_mode=False)\n",
      "    (14): Conv2d(256, 10, kernel_size=(3, 3), stride=(1, 1), padding=(1, 1))\n",
      "    (15): BatchNorm2d(10, eps=1e-05, momentum=0.1, affine=True, track_running_stats=True)\n",
      "    (16): LeakyReLU(negative_slope=0.2)\n",
      "  )\n",
      "  (avg_pool): AvgPool2d(kernel_size=7, stride=7, padding=0)\n",
      "  (classifier): Linear(in_features=10, out_features=10, bias=True)\n",
      ")\n"
     ]
    }
   ],
   "source": [
    "net = CNN_mnist()\n",
    "net.load_state_dict(torch.load(\"/home/jake/Gits/AI college/XAI/2.problem/model_weights/pth/cnn_mnist.pth\"))\n",
    "print(net)"
   ]
  },
  {
   "cell_type": "markdown",
   "metadata": {},
   "source": [
    "# 정방향 역방향 훅 "
   ]
  },
  {
   "cell_type": "code",
   "execution_count": 4,
   "metadata": {},
   "outputs": [],
   "source": [
    "import torch\n",
    "import torchvision.datasets as dsets\n",
    "import torchvision.transforms as transforms\n",
    "import torch\n",
    "import torchvision\n",
    "import torchvision.transforms as transforms\n",
    "import numpy as np\n",
    "from PIL import Image\n",
    "import cv2\n",
    "transform = transforms.Compose([\n",
    "    #transforms.Resize(32),\n",
    "    transforms.ToTensor(),\n",
    "])"
   ]
  },
  {
   "cell_type": "code",
   "execution_count": 5,
   "metadata": {},
   "outputs": [],
   "source": [
    "train = torchvision.datasets.MNIST(root='/mnt/3CE35B99003D727B/input/pytorch/data', train=True,\n",
    "                                                download=True, transform=transform)\n",
    "train_loader = torch.utils.data.DataLoader(train, batch_size=1, shuffle=False)"
   ]
  },
  {
   "cell_type": "code",
   "execution_count": 6,
   "metadata": {},
   "outputs": [],
   "source": [
    "def train(epoch,trainloader,step):\n",
    "    #print(\"training....\")\n",
    "\n",
    "    for i , (images, targets) in enumerate(trainloader):\n",
    "        #print(images.shape)\n",
    "        self.net.train()\n",
    "\n",
    "        images, targets = images.to(self.device), targets.to(self.device)\n",
    "        self.optimizer.zero_grad()\n",
    "        if self.net.name =='CNN_mnist':\n",
    "            outputs ,_ = self.net(images)\n",
    "        else:\n",
    "             outputs= self.net(images)\n",
    "        loss = self.criterion(outputs,targets)\n",
    "        loss.backward()\n",
    "        self.optimizer.step()\n",
    "\n",
    "        self.epoch_loss += loss.item()\n",
    "        _, predicted = outputs.max(1)\n",
    "        self.total += targets.size(0)\n",
    "        self.correct += predicted.eq(targets).sum().item()\n",
    "\n",
    "        if (i + 1) % 10000 == 0:\n",
    "            print('Epoch [%d/%d], Iter [%d/%d], Loss: %.4f  correct: %.4f %%'\n",
    "                  % (epoch + 1, 10, i + 1, len(trainloader), loss.item(),100.*self.correct/self.total))\n",
    "\n",
    "    avg_epoch_loss = self.epoch_loss / len(trainloader)\n",
    "\n",
    "    print(\"Epoch: %d, Avg Loss: %.4f\" % (epoch + 1, avg_epoch_loss))\n"
   ]
  },
  {
   "cell_type": "code",
   "execution_count": 7,
   "metadata": {},
   "outputs": [
    {
     "data": {
      "text/plain": [
       "torch.Size([60000, 28, 28])"
      ]
     },
     "execution_count": 7,
     "metadata": {},
     "output_type": "execute_result"
    }
   ],
   "source": [
    "train_loader.dataset.data.shape"
   ]
  },
  {
   "cell_type": "code",
   "execution_count": 8,
   "metadata": {},
   "outputs": [],
   "source": [
    "input = np.random.rand(32,1,28,28)\n",
    "input = torch.tensor(input)"
   ]
  },
  {
   "cell_type": "code",
   "execution_count": 9,
   "metadata": {},
   "outputs": [],
   "source": [
    "def printnorm(input,output):\n",
    "    #print('inside' + self.__class__.name__+ 'forward')\n",
    "    print('')\n",
    "    print('input:', type(input))\n",
    "    print('input[0]', type(input[0]))\n",
    "    print('output:',type(output))\n",
    "    print('')\n",
    "    print('input size', input[0].size())\n",
    "    print('output size',output.data.size())\n",
    "    print('output norm',output.data.norm())"
   ]
  },
  {
   "cell_type": "code",
   "execution_count": 10,
   "metadata": {},
   "outputs": [],
   "source": [
    "#net.conv.register_forward_hook(printnorm)"
   ]
  },
  {
   "cell_type": "code",
   "execution_count": 11,
   "metadata": {},
   "outputs": [
    {
     "data": {
      "text/plain": [
       "CNN_mnist(\n",
       "  (conv): Sequential(\n",
       "    (0): Conv2d(1, 32, kernel_size=(3, 3), stride=(1, 1), padding=(1, 1))\n",
       "    (1): BatchNorm2d(32, eps=1e-05, momentum=0.1, affine=True, track_running_stats=True)\n",
       "    (2): LeakyReLU(negative_slope=0.2)\n",
       "    (3): Conv2d(32, 64, kernel_size=(3, 3), stride=(1, 1), padding=(1, 1))\n",
       "    (4): BatchNorm2d(64, eps=1e-05, momentum=0.1, affine=True, track_running_stats=True)\n",
       "    (5): LeakyReLU(negative_slope=0.2)\n",
       "    (6): MaxPool2d(kernel_size=2, stride=2, padding=0, dilation=1, ceil_mode=False)\n",
       "    (7): Conv2d(64, 128, kernel_size=(3, 3), stride=(1, 1), padding=(1, 1))\n",
       "    (8): BatchNorm2d(128, eps=1e-05, momentum=0.1, affine=True, track_running_stats=True)\n",
       "    (9): LeakyReLU(negative_slope=0.2)\n",
       "    (10): Conv2d(128, 256, kernel_size=(3, 3), stride=(1, 1), padding=(1, 1))\n",
       "    (11): BatchNorm2d(256, eps=1e-05, momentum=0.1, affine=True, track_running_stats=True)\n",
       "    (12): LeakyReLU(negative_slope=0.2)\n",
       "    (13): MaxPool2d(kernel_size=2, stride=2, padding=0, dilation=1, ceil_mode=False)\n",
       "    (14): Conv2d(256, 10, kernel_size=(3, 3), stride=(1, 1), padding=(1, 1))\n",
       "    (15): BatchNorm2d(10, eps=1e-05, momentum=0.1, affine=True, track_running_stats=True)\n",
       "    (16): LeakyReLU(negative_slope=0.2)\n",
       "  )\n",
       "  (avg_pool): AvgPool2d(kernel_size=7, stride=7, padding=0)\n",
       "  (classifier): Linear(in_features=10, out_features=10, bias=True)\n",
       ")"
      ]
     },
     "execution_count": 11,
     "metadata": {},
     "output_type": "execute_result"
    }
   ],
   "source": [
    "net.cuda()"
   ]
  },
  {
   "cell_type": "code",
   "execution_count": 12,
   "metadata": {},
   "outputs": [],
   "source": [
    "#feature_blobs = []\n",
    "#net._modules.get(final_conv).register_forward_hook(hook_feature)"
   ]
  },
  {
   "cell_type": "code",
   "execution_count": 13,
   "metadata": {},
   "outputs": [],
   "source": [
    "#print('feature_blobs->',torch.tensor(feature_blobs).shape)"
   ]
  },
  {
   "cell_type": "code",
   "execution_count": 53,
   "metadata": {},
   "outputs": [],
   "source": [
    "def returnCAM(feature_conv, weight_softmax, class_idx):\n",
    "    # generate the class activation maps upsample to 256x256\n",
    "    size_upsample = (28, 28)\n",
    "    bz, nc, h, w = feature_conv.shape\n",
    "    output_cam = []\n",
    "    print('class_idx->',class_idx)\n",
    "    for idx in class_idx:\n",
    "        cam = weight_softmax[class_idx].dot(feature_conv.reshape((nc, h * w)))\n",
    "        cam = cam.reshape(h, w)\n",
    "        cam = cam - np.min(cam)\n",
    "        cam_img = cam / np.max(cam)\n",
    "        cam_img = np.uint8(255 * cam_img)\n",
    "        output_cam.append(cv2.resize(cam_img, size_upsample))\n",
    "    return output_cam"
   ]
  },
  {
   "cell_type": "code",
   "execution_count": 54,
   "metadata": {},
   "outputs": [
    {
     "name": "stdout",
     "output_type": "stream",
     "text": [
      "weight_softmax-> (10, 10)\n",
      "0 torch.Size([1, 1, 28, 28])\n",
      "feature_blobs-> torch.Size([25, 1, 10, 7, 7])\n",
      "feature_blobstemp-> (1, 10, 7, 7)\n",
      "idx[0].item()-> [7]\n",
      "class_idx-> [7]\n"
     ]
    }
   ],
   "source": [
    "device='cuda'\n",
    "final_conv = 'conv'\n",
    "feature_blobs = []\n",
    "\n",
    "params = list(net.parameters())\n",
    "\n",
    "#print('params->',params[-2])\n",
    "\n",
    "weight_softmax = np.squeeze(params[-2].cpu().data.numpy())\n",
    "\n",
    "print('weight_softmax->',weight_softmax.shape)\n",
    "result\n",
    "def hook_feature(module, input, output):\n",
    "    feature_blobs.append(output.cpu().data.numpy())\n",
    "\n",
    "for i , (img, targets) in enumerate(train_loader):\n",
    "    print(i,img.shape)\n",
    "    net._modules.get(final_conv).register_forward_hook(hook_feature)\n",
    "    img, targets = img.to(device), targets.to(device)\n",
    "    logit ,_ = net(images)\n",
    "    \n",
    "    x = img[0, :, :].cpu().data.numpy().squeeze()\n",
    "    #feature_blobs.append(outputs.cpu().data.numpy())\n",
    "    print('feature_blobs->',torch.tensor(feature_blobs).shape)\n",
    "    \n",
    "    #print('logit->',logit)\n",
    "    h_x = F.softmax(logit,dim=1).data.squeeze()\n",
    "    #print('h_x->',h_x)\n",
    "    \n",
    "    weight_softmaxtemp = weight_softmax\n",
    "    feature_blobstemp = feature_blobs[0]\n",
    "    print('feature_blobstemp->',feature_blobstemp.shape)\n",
    "    \n",
    "    probs, idx = h_x.sort(0, True)\n",
    "    #print('probs->',probs,'idx->',idx)\n",
    "    print('idx[0].item()->',[idx[0].item()])\n",
    "    \n",
    "    CAMs = returnCAM(feature_blobs[0], weight_softmax, [idx[0].item()])\n",
    "    \n",
    "    height, width = img.shape[2:]\n",
    "\n",
    "    CAM = cv2.resize(CAMs[0], (width, height))\n",
    "    heatmap = cv2.applyColorMap(CAM, cv2.COLORMAP_JET)\n",
    "    result = (x * CAM)\n",
    "\n",
    "    \n",
    "    if i==0:break"
   ]
  },
  {
   "cell_type": "code",
   "execution_count": 46,
   "metadata": {},
   "outputs": [],
   "source": [
    "result.shape\n",
    "img = result"
   ]
  },
  {
   "cell_type": "code",
   "execution_count": 44,
   "metadata": {},
   "outputs": [
    {
     "name": "stdout",
     "output_type": "stream",
     "text": [
      "torch.Size([28, 28])\n"
     ]
    },
    {
     "name": "stderr",
     "output_type": "stream",
     "text": [
      "/home/jake/venv/lib/python3.7/site-packages/ipykernel_launcher.py:2: UserWarning: To copy construct from a tensor, it is recommended to use sourceTensor.clone().detach() or sourceTensor.clone().detach().requires_grad_(True), rather than torch.tensor(sourceTensor).\n",
      "  \n"
     ]
    },
    {
     "data": {
      "image/png": "[encoded data removed]",
      "text/plain": [
       "<Figure size 432x288 with 1 Axes>"
      ]
     },
     "metadata": {
      "needs_background": "light"
     },
     "output_type": "display_data"
    }
   ],
   "source": [
    "img = img.squeeze()\n",
    "img = torch.tensor(img)\n",
    "print(img.shape)\n",
    "#img = (img).permute(1, 2, 0)\n",
    "plt.imshow(img)\n",
    "plt.show()"
   ]
  },
  {
   "cell_type": "code",
   "execution_count": null,
   "metadata": {},
   "outputs": [],
   "source": []
  }
 ],
 "metadata": {
  "kernelspec": {
   "display_name": "Python 3",
   "language": "python",
   "name": "python3"
  },
  "language_info": {
   "codemirror_mode": {
    "name": "ipython",
    "version": 3
   },
   "file_extension": ".py",
   "mimetype": "text/x-python",
   "name": "python",
   "nbconvert_exporter": "python",
   "pygments_lexer": "ipython3",
   "version": "3.7.3"
  }
 },
 "nbformat": 4,
 "nbformat_minor": 2
}
